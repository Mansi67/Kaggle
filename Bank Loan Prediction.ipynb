{
 "cells": [
  {
   "cell_type": "markdown",
   "id": "3910ab1c",
   "metadata": {},
   "source": [
    "# Keras API Project"
   ]
  },
  {
   "cell_type": "code",
   "execution_count": 39,
   "id": "01cd6099",
   "metadata": {},
   "outputs": [],
   "source": [
    "import pandas as pd\n",
    "import numpy as np\n",
    "import seaborn as sns\n",
    "import matplotlib.pyplot as plt\n",
    "%matplotlib inline"
   ]
  },
  {
   "cell_type": "markdown",
   "id": "99a56d27",
   "metadata": {},
   "source": [
    "**Info about various columns**"
   ]
  },
  {
   "cell_type": "code",
   "execution_count": 40,
   "id": "b73ffd9f",
   "metadata": {},
   "outputs": [],
   "source": [
    "data_info=pd.read_csv('lending_club_info.csv', index_col='LoanStatNew')"
   ]
  },
  {
   "cell_type": "code",
   "execution_count": 41,
   "id": "0d511a65",
   "metadata": {},
   "outputs": [
    {
     "data": {
      "text/html": [
       "<div>\n",
       "<style scoped>\n",
       "    .dataframe tbody tr th:only-of-type {\n",
       "        vertical-align: middle;\n",
       "    }\n",
       "\n",
       "    .dataframe tbody tr th {\n",
       "        vertical-align: top;\n",
       "    }\n",
       "\n",
       "    .dataframe thead th {\n",
       "        text-align: right;\n",
       "    }\n",
       "</style>\n",
       "<table border=\"1\" class=\"dataframe\">\n",
       "  <thead>\n",
       "    <tr style=\"text-align: right;\">\n",
       "      <th></th>\n",
       "      <th>Description</th>\n",
       "    </tr>\n",
       "    <tr>\n",
       "      <th>LoanStatNew</th>\n",
       "      <th></th>\n",
       "    </tr>\n",
       "  </thead>\n",
       "  <tbody>\n",
       "    <tr>\n",
       "      <th>loan_amnt</th>\n",
       "      <td>The listed amount of the loan applied for by t...</td>\n",
       "    </tr>\n",
       "    <tr>\n",
       "      <th>term</th>\n",
       "      <td>The number of payments on the loan. Values are...</td>\n",
       "    </tr>\n",
       "  </tbody>\n",
       "</table>\n",
       "</div>"
      ],
      "text/plain": [
       "                                                   Description\n",
       "LoanStatNew                                                   \n",
       "loan_amnt    The listed amount of the loan applied for by t...\n",
       "term         The number of payments on the loan. Values are..."
      ]
     },
     "execution_count": 41,
     "metadata": {},
     "output_type": "execute_result"
    }
   ],
   "source": [
    "data_info.head(2)"
   ]
  },
  {
   "cell_type": "markdown",
   "id": "4b768232",
   "metadata": {},
   "source": [
    "**To print Description of columns we will  create a function**"
   ]
  },
  {
   "cell_type": "code",
   "execution_count": 42,
   "id": "997e71e4",
   "metadata": {},
   "outputs": [
    {
     "data": {
      "text/plain": [
       "'The listed amount of the loan applied for by the borrower. If at some point in time, the credit department reduces the loan amount, then it will be reflected in this value.'"
      ]
     },
     "execution_count": 42,
     "metadata": {},
     "output_type": "execute_result"
    }
   ],
   "source": [
    "data_info.loc['loan_amnt']['Description']"
   ]
  },
  {
   "cell_type": "code",
   "execution_count": 43,
   "id": "4c5400a8",
   "metadata": {},
   "outputs": [],
   "source": [
    "feat_info=lambda col_name : data_info.loc[col_name]['Description']"
   ]
  },
  {
   "cell_type": "code",
   "execution_count": 44,
   "id": "42f14f0b",
   "metadata": {},
   "outputs": [
    {
     "data": {
      "text/plain": [
       "'The number of payments on the loan. Values are in months and can be either 36 or 60.'"
      ]
     },
     "execution_count": 44,
     "metadata": {},
     "output_type": "execute_result"
    }
   ],
   "source": [
    "feat_info('term')"
   ]
  },
  {
   "cell_type": "code",
   "execution_count": 45,
   "id": "9b49a4c7",
   "metadata": {},
   "outputs": [
    {
     "data": {
      "text/plain": [
       "'The listed amount of the loan applied for by the borrower. If at some point in time, the credit department reduces the loan amount, then it will be reflected in this value.'"
      ]
     },
     "execution_count": 45,
     "metadata": {},
     "output_type": "execute_result"
    }
   ],
   "source": [
    "feat_info('loan_amnt')"
   ]
  },
  {
   "cell_type": "markdown",
   "id": "1ab28454",
   "metadata": {},
   "source": [
    "# Loading the data"
   ]
  },
  {
   "cell_type": "code",
   "execution_count": 46,
   "id": "7c2e166e",
   "metadata": {},
   "outputs": [],
   "source": [
    "df=pd.read_csv('../DATA/lending_club_loan_two.csv')"
   ]
  },
  {
   "cell_type": "code",
   "execution_count": 47,
   "id": "c24b5a0b",
   "metadata": {},
   "outputs": [
    {
     "data": {
      "text/html": [
       "<div>\n",
       "<style scoped>\n",
       "    .dataframe tbody tr th:only-of-type {\n",
       "        vertical-align: middle;\n",
       "    }\n",
       "\n",
       "    .dataframe tbody tr th {\n",
       "        vertical-align: top;\n",
       "    }\n",
       "\n",
       "    .dataframe thead th {\n",
       "        text-align: right;\n",
       "    }\n",
       "</style>\n",
       "<table border=\"1\" class=\"dataframe\">\n",
       "  <thead>\n",
       "    <tr style=\"text-align: right;\">\n",
       "      <th></th>\n",
       "      <th>loan_amnt</th>\n",
       "      <th>term</th>\n",
       "      <th>int_rate</th>\n",
       "      <th>installment</th>\n",
       "      <th>grade</th>\n",
       "      <th>sub_grade</th>\n",
       "      <th>emp_title</th>\n",
       "      <th>emp_length</th>\n",
       "      <th>home_ownership</th>\n",
       "      <th>annual_inc</th>\n",
       "      <th>...</th>\n",
       "      <th>open_acc</th>\n",
       "      <th>pub_rec</th>\n",
       "      <th>revol_bal</th>\n",
       "      <th>revol_util</th>\n",
       "      <th>total_acc</th>\n",
       "      <th>initial_list_status</th>\n",
       "      <th>application_type</th>\n",
       "      <th>mort_acc</th>\n",
       "      <th>pub_rec_bankruptcies</th>\n",
       "      <th>address</th>\n",
       "    </tr>\n",
       "  </thead>\n",
       "  <tbody>\n",
       "    <tr>\n",
       "      <th>0</th>\n",
       "      <td>10000.0</td>\n",
       "      <td>36 months</td>\n",
       "      <td>11.44</td>\n",
       "      <td>329.48</td>\n",
       "      <td>B</td>\n",
       "      <td>B4</td>\n",
       "      <td>Marketing</td>\n",
       "      <td>10+ years</td>\n",
       "      <td>RENT</td>\n",
       "      <td>117000.0</td>\n",
       "      <td>...</td>\n",
       "      <td>16.0</td>\n",
       "      <td>0.0</td>\n",
       "      <td>36369.0</td>\n",
       "      <td>41.8</td>\n",
       "      <td>25.0</td>\n",
       "      <td>w</td>\n",
       "      <td>INDIVIDUAL</td>\n",
       "      <td>0.0</td>\n",
       "      <td>0.0</td>\n",
       "      <td>0174 Michelle Gateway\\nMendozaberg, OK 22690</td>\n",
       "    </tr>\n",
       "    <tr>\n",
       "      <th>1</th>\n",
       "      <td>8000.0</td>\n",
       "      <td>36 months</td>\n",
       "      <td>11.99</td>\n",
       "      <td>265.68</td>\n",
       "      <td>B</td>\n",
       "      <td>B5</td>\n",
       "      <td>Credit analyst</td>\n",
       "      <td>4 years</td>\n",
       "      <td>MORTGAGE</td>\n",
       "      <td>65000.0</td>\n",
       "      <td>...</td>\n",
       "      <td>17.0</td>\n",
       "      <td>0.0</td>\n",
       "      <td>20131.0</td>\n",
       "      <td>53.3</td>\n",
       "      <td>27.0</td>\n",
       "      <td>f</td>\n",
       "      <td>INDIVIDUAL</td>\n",
       "      <td>3.0</td>\n",
       "      <td>0.0</td>\n",
       "      <td>1076 Carney Fort Apt. 347\\nLoganmouth, SD 05113</td>\n",
       "    </tr>\n",
       "  </tbody>\n",
       "</table>\n",
       "<p>2 rows × 27 columns</p>\n",
       "</div>"
      ],
      "text/plain": [
       "   loan_amnt        term  int_rate  installment grade sub_grade  \\\n",
       "0    10000.0   36 months     11.44       329.48     B        B4   \n",
       "1     8000.0   36 months     11.99       265.68     B        B5   \n",
       "\n",
       "         emp_title emp_length home_ownership  annual_inc  ... open_acc  \\\n",
       "0        Marketing  10+ years           RENT    117000.0  ...     16.0   \n",
       "1  Credit analyst     4 years       MORTGAGE     65000.0  ...     17.0   \n",
       "\n",
       "  pub_rec revol_bal revol_util total_acc  initial_list_status  \\\n",
       "0     0.0   36369.0       41.8      25.0                    w   \n",
       "1     0.0   20131.0       53.3      27.0                    f   \n",
       "\n",
       "  application_type  mort_acc  pub_rec_bankruptcies  \\\n",
       "0       INDIVIDUAL       0.0                   0.0   \n",
       "1       INDIVIDUAL       3.0                   0.0   \n",
       "\n",
       "                                           address  \n",
       "0     0174 Michelle Gateway\\nMendozaberg, OK 22690  \n",
       "1  1076 Carney Fort Apt. 347\\nLoganmouth, SD 05113  \n",
       "\n",
       "[2 rows x 27 columns]"
      ]
     },
     "execution_count": 47,
     "metadata": {},
     "output_type": "execute_result"
    }
   ],
   "source": [
    "df.head(2)"
   ]
  },
  {
   "cell_type": "code",
   "execution_count": 48,
   "id": "c017549a",
   "metadata": {},
   "outputs": [
    {
     "name": "stdout",
     "output_type": "stream",
     "text": [
      "<class 'pandas.core.frame.DataFrame'>\n",
      "RangeIndex: 396030 entries, 0 to 396029\n",
      "Data columns (total 27 columns):\n",
      " #   Column                Non-Null Count   Dtype  \n",
      "---  ------                --------------   -----  \n",
      " 0   loan_amnt             396030 non-null  float64\n",
      " 1   term                  396030 non-null  object \n",
      " 2   int_rate              396030 non-null  float64\n",
      " 3   installment           396030 non-null  float64\n",
      " 4   grade                 396030 non-null  object \n",
      " 5   sub_grade             396030 non-null  object \n",
      " 6   emp_title             373103 non-null  object \n",
      " 7   emp_length            377729 non-null  object \n",
      " 8   home_ownership        396030 non-null  object \n",
      " 9   annual_inc            396030 non-null  float64\n",
      " 10  verification_status   396030 non-null  object \n",
      " 11  issue_d               396030 non-null  object \n",
      " 12  loan_status           396030 non-null  object \n",
      " 13  purpose               396030 non-null  object \n",
      " 14  title                 394275 non-null  object \n",
      " 15  dti                   396030 non-null  float64\n",
      " 16  earliest_cr_line      396030 non-null  object \n",
      " 17  open_acc              396030 non-null  float64\n",
      " 18  pub_rec               396030 non-null  float64\n",
      " 19  revol_bal             396030 non-null  float64\n",
      " 20  revol_util            395754 non-null  float64\n",
      " 21  total_acc             396030 non-null  float64\n",
      " 22  initial_list_status   396030 non-null  object \n",
      " 23  application_type      396030 non-null  object \n",
      " 24  mort_acc              358235 non-null  float64\n",
      " 25  pub_rec_bankruptcies  395495 non-null  float64\n",
      " 26  address               396030 non-null  object \n",
      "dtypes: float64(12), object(15)\n",
      "memory usage: 81.6+ MB\n"
     ]
    }
   ],
   "source": [
    "df.info()"
   ]
  },
  {
   "cell_type": "code",
   "execution_count": 50,
   "id": "d3ae1240",
   "metadata": {},
   "outputs": [
    {
     "data": {
      "text/plain": [
       "(396030, 27)"
      ]
     },
     "execution_count": 50,
     "metadata": {},
     "output_type": "execute_result"
    }
   ],
   "source": [
    "df.shape"
   ]
  },
  {
   "cell_type": "code",
   "execution_count": 209,
   "id": "050ce52c",
   "metadata": {},
   "outputs": [
    {
     "data": {
      "text/html": [
       "<div>\n",
       "<style scoped>\n",
       "    .dataframe tbody tr th:only-of-type {\n",
       "        vertical-align: middle;\n",
       "    }\n",
       "\n",
       "    .dataframe tbody tr th {\n",
       "        vertical-align: top;\n",
       "    }\n",
       "\n",
       "    .dataframe thead th {\n",
       "        text-align: right;\n",
       "    }\n",
       "</style>\n",
       "<table border=\"1\" class=\"dataframe\">\n",
       "  <thead>\n",
       "    <tr style=\"text-align: right;\">\n",
       "      <th></th>\n",
       "      <th>count</th>\n",
       "      <th>mean</th>\n",
       "      <th>std</th>\n",
       "      <th>min</th>\n",
       "      <th>25%</th>\n",
       "      <th>50%</th>\n",
       "      <th>75%</th>\n",
       "      <th>max</th>\n",
       "    </tr>\n",
       "  </thead>\n",
       "  <tbody>\n",
       "    <tr>\n",
       "      <th>loan_amnt</th>\n",
       "      <td>396030.0</td>\n",
       "      <td>14113.888089</td>\n",
       "      <td>8357.441341</td>\n",
       "      <td>500.00</td>\n",
       "      <td>8000.00</td>\n",
       "      <td>12000.00</td>\n",
       "      <td>20000.00</td>\n",
       "      <td>40000.00</td>\n",
       "    </tr>\n",
       "    <tr>\n",
       "      <th>int_rate</th>\n",
       "      <td>396030.0</td>\n",
       "      <td>13.639400</td>\n",
       "      <td>4.472157</td>\n",
       "      <td>5.32</td>\n",
       "      <td>10.49</td>\n",
       "      <td>13.33</td>\n",
       "      <td>16.49</td>\n",
       "      <td>30.99</td>\n",
       "    </tr>\n",
       "    <tr>\n",
       "      <th>installment</th>\n",
       "      <td>396030.0</td>\n",
       "      <td>431.849698</td>\n",
       "      <td>250.727790</td>\n",
       "      <td>16.08</td>\n",
       "      <td>250.33</td>\n",
       "      <td>375.43</td>\n",
       "      <td>567.30</td>\n",
       "      <td>1533.81</td>\n",
       "    </tr>\n",
       "    <tr>\n",
       "      <th>annual_inc</th>\n",
       "      <td>396030.0</td>\n",
       "      <td>74203.175798</td>\n",
       "      <td>61637.621158</td>\n",
       "      <td>0.00</td>\n",
       "      <td>45000.00</td>\n",
       "      <td>64000.00</td>\n",
       "      <td>90000.00</td>\n",
       "      <td>8706582.00</td>\n",
       "    </tr>\n",
       "    <tr>\n",
       "      <th>dti</th>\n",
       "      <td>396030.0</td>\n",
       "      <td>17.379514</td>\n",
       "      <td>18.019092</td>\n",
       "      <td>0.00</td>\n",
       "      <td>11.28</td>\n",
       "      <td>16.91</td>\n",
       "      <td>22.98</td>\n",
       "      <td>9999.00</td>\n",
       "    </tr>\n",
       "    <tr>\n",
       "      <th>open_acc</th>\n",
       "      <td>396030.0</td>\n",
       "      <td>11.311153</td>\n",
       "      <td>5.137649</td>\n",
       "      <td>0.00</td>\n",
       "      <td>8.00</td>\n",
       "      <td>10.00</td>\n",
       "      <td>14.00</td>\n",
       "      <td>90.00</td>\n",
       "    </tr>\n",
       "    <tr>\n",
       "      <th>pub_rec</th>\n",
       "      <td>396030.0</td>\n",
       "      <td>0.178191</td>\n",
       "      <td>0.530671</td>\n",
       "      <td>0.00</td>\n",
       "      <td>0.00</td>\n",
       "      <td>0.00</td>\n",
       "      <td>0.00</td>\n",
       "      <td>86.00</td>\n",
       "    </tr>\n",
       "    <tr>\n",
       "      <th>revol_bal</th>\n",
       "      <td>396030.0</td>\n",
       "      <td>15844.539853</td>\n",
       "      <td>20591.836109</td>\n",
       "      <td>0.00</td>\n",
       "      <td>6025.00</td>\n",
       "      <td>11181.00</td>\n",
       "      <td>19620.00</td>\n",
       "      <td>1743266.00</td>\n",
       "    </tr>\n",
       "    <tr>\n",
       "      <th>revol_util</th>\n",
       "      <td>395754.0</td>\n",
       "      <td>53.791749</td>\n",
       "      <td>24.452193</td>\n",
       "      <td>0.00</td>\n",
       "      <td>35.80</td>\n",
       "      <td>54.80</td>\n",
       "      <td>72.90</td>\n",
       "      <td>892.30</td>\n",
       "    </tr>\n",
       "    <tr>\n",
       "      <th>total_acc</th>\n",
       "      <td>396030.0</td>\n",
       "      <td>25.414744</td>\n",
       "      <td>11.886991</td>\n",
       "      <td>2.00</td>\n",
       "      <td>17.00</td>\n",
       "      <td>24.00</td>\n",
       "      <td>32.00</td>\n",
       "      <td>151.00</td>\n",
       "    </tr>\n",
       "    <tr>\n",
       "      <th>mort_acc</th>\n",
       "      <td>358235.0</td>\n",
       "      <td>1.813991</td>\n",
       "      <td>2.147930</td>\n",
       "      <td>0.00</td>\n",
       "      <td>0.00</td>\n",
       "      <td>1.00</td>\n",
       "      <td>3.00</td>\n",
       "      <td>34.00</td>\n",
       "    </tr>\n",
       "    <tr>\n",
       "      <th>pub_rec_bankruptcies</th>\n",
       "      <td>395495.0</td>\n",
       "      <td>0.121648</td>\n",
       "      <td>0.356174</td>\n",
       "      <td>0.00</td>\n",
       "      <td>0.00</td>\n",
       "      <td>0.00</td>\n",
       "      <td>0.00</td>\n",
       "      <td>8.00</td>\n",
       "    </tr>\n",
       "  </tbody>\n",
       "</table>\n",
       "</div>"
      ],
      "text/plain": [
       "                         count          mean           std     min       25%  \\\n",
       "loan_amnt             396030.0  14113.888089   8357.441341  500.00   8000.00   \n",
       "int_rate              396030.0     13.639400      4.472157    5.32     10.49   \n",
       "installment           396030.0    431.849698    250.727790   16.08    250.33   \n",
       "annual_inc            396030.0  74203.175798  61637.621158    0.00  45000.00   \n",
       "dti                   396030.0     17.379514     18.019092    0.00     11.28   \n",
       "open_acc              396030.0     11.311153      5.137649    0.00      8.00   \n",
       "pub_rec               396030.0      0.178191      0.530671    0.00      0.00   \n",
       "revol_bal             396030.0  15844.539853  20591.836109    0.00   6025.00   \n",
       "revol_util            395754.0     53.791749     24.452193    0.00     35.80   \n",
       "total_acc             396030.0     25.414744     11.886991    2.00     17.00   \n",
       "mort_acc              358235.0      1.813991      2.147930    0.00      0.00   \n",
       "pub_rec_bankruptcies  395495.0      0.121648      0.356174    0.00      0.00   \n",
       "\n",
       "                           50%       75%         max  \n",
       "loan_amnt             12000.00  20000.00    40000.00  \n",
       "int_rate                 13.33     16.49       30.99  \n",
       "installment             375.43    567.30     1533.81  \n",
       "annual_inc            64000.00  90000.00  8706582.00  \n",
       "dti                      16.91     22.98     9999.00  \n",
       "open_acc                 10.00     14.00       90.00  \n",
       "pub_rec                   0.00      0.00       86.00  \n",
       "revol_bal             11181.00  19620.00  1743266.00  \n",
       "revol_util               54.80     72.90      892.30  \n",
       "total_acc                24.00     32.00      151.00  \n",
       "mort_acc                  1.00      3.00       34.00  \n",
       "pub_rec_bankruptcies      0.00      0.00        8.00  "
      ]
     },
     "execution_count": 209,
     "metadata": {},
     "output_type": "execute_result"
    }
   ],
   "source": [
    "df.describe().transpose()"
   ]
  },
  {
   "cell_type": "markdown",
   "id": "61499e7a",
   "metadata": {},
   "source": [
    "**Initial look analysis**"
   ]
  },
  {
   "cell_type": "markdown",
   "id": "e6bdc232",
   "metadata": {},
   "source": [
    "27 columns and 396030 rows, 15 non-numeric features and 12 numeric features present. Nulls are present in more than one features. Target feature is 'loan_status'. Based on the data we have to find whether a person would be able to pay off loans in future or not."
   ]
  },
  {
   "cell_type": "markdown",
   "id": "f98fc8e5",
   "metadata": {},
   "source": [
    "# Exploratory Data Analysis"
   ]
  },
  {
   "cell_type": "code",
   "execution_count": 77,
   "id": "69219946",
   "metadata": {},
   "outputs": [],
   "source": [
    "sns.set_style('darkgrid')"
   ]
  },
  {
   "cell_type": "markdown",
   "id": "0b2824b4",
   "metadata": {},
   "source": [
    "**Let us explore target columns first**"
   ]
  },
  {
   "cell_type": "code",
   "execution_count": 182,
   "id": "107bc5a3",
   "metadata": {},
   "outputs": [
    {
     "data": {
      "text/plain": [
       "0          Fully Paid\n",
       "1          Fully Paid\n",
       "2          Fully Paid\n",
       "3          Fully Paid\n",
       "4         Charged Off\n",
       "             ...     \n",
       "396025     Fully Paid\n",
       "396026     Fully Paid\n",
       "396027     Fully Paid\n",
       "396028     Fully Paid\n",
       "396029     Fully Paid\n",
       "Name: loan_status, Length: 396030, dtype: object"
      ]
     },
     "execution_count": 182,
     "metadata": {},
     "output_type": "execute_result"
    }
   ],
   "source": [
    "df['loan_status']"
   ]
  },
  {
   "cell_type": "code",
   "execution_count": 78,
   "id": "f36f4db4",
   "metadata": {},
   "outputs": [
    {
     "name": "stdout",
     "output_type": "stream",
     "text": [
      "0\n",
      "loan_status\n",
      "Charged Off     71730\n",
      "Fully Paid     301373\n",
      "Name: emp_title, dtype: int64\n"
     ]
    }
   ],
   "source": [
    "print(df['loan_status'].isnull().sum())\n",
    "print(df.groupby('loan_status')['emp_title'].count())"
   ]
  },
  {
   "cell_type": "code",
   "execution_count": 79,
   "id": "9bf5e883",
   "metadata": {},
   "outputs": [
    {
     "name": "stderr",
     "output_type": "stream",
     "text": [
      "C:\\Users\\Harshit Srivastava\\anaconda3\\lib\\site-packages\\seaborn\\_decorators.py:36: FutureWarning: Pass the following variable as a keyword arg: x. From version 0.12, the only valid positional argument will be `data`, and passing other arguments without an explicit keyword will result in an error or misinterpretation.\n",
      "  warnings.warn(\n"
     ]
    },
    {
     "data": {
      "text/plain": [
       "<AxesSubplot:xlabel='loan_status', ylabel='count'>"
      ]
     },
     "execution_count": 79,
     "metadata": {},
     "output_type": "execute_result"
    },
    {
     "data": {
      "image/png": "[encoded data removed]",
      "text/plain": [
       "<Figure size 432x432 with 1 Axes>"
      ]
     },
     "metadata": {},
     "output_type": "display_data"
    }
   ],
   "source": [
    "plt.figure(figsize=(6,6))\n",
    "sns.countplot(df.loan_status, data=df, palette='bright')"
   ]
  },
  {
   "cell_type": "code",
   "execution_count": 183,
   "id": "8e36adfe",
   "metadata": {},
   "outputs": [],
   "source": [
    "#Loan status is non-numeric in nature , we will convert it into dummy variables in future steps"
   ]
  },
  {
   "cell_type": "markdown",
   "id": "a015110e",
   "metadata": {},
   "source": [
    "**Fisrt we will try to explore numeric columns**"
   ]
  },
  {
   "cell_type": "code",
   "execution_count": 181,
   "id": "bbeff6fe",
   "metadata": {},
   "outputs": [
    {
     "data": {
      "text/html": [
       "<div>\n",
       "<style scoped>\n",
       "    .dataframe tbody tr th:only-of-type {\n",
       "        vertical-align: middle;\n",
       "    }\n",
       "\n",
       "    .dataframe tbody tr th {\n",
       "        vertical-align: top;\n",
       "    }\n",
       "\n",
       "    .dataframe thead th {\n",
       "        text-align: right;\n",
       "    }\n",
       "</style>\n",
       "<table border=\"1\" class=\"dataframe\">\n",
       "  <thead>\n",
       "    <tr style=\"text-align: right;\">\n",
       "      <th></th>\n",
       "      <th>loan_amnt</th>\n",
       "      <th>int_rate</th>\n",
       "      <th>installment</th>\n",
       "      <th>annual_inc</th>\n",
       "      <th>dti</th>\n",
       "      <th>open_acc</th>\n",
       "      <th>pub_rec</th>\n",
       "      <th>revol_bal</th>\n",
       "      <th>revol_util</th>\n",
       "      <th>total_acc</th>\n",
       "      <th>mort_acc</th>\n",
       "      <th>pub_rec_bankruptcies</th>\n",
       "    </tr>\n",
       "  </thead>\n",
       "  <tbody>\n",
       "    <tr>\n",
       "      <th>loan_amnt</th>\n",
       "      <td>1.000000</td>\n",
       "      <td>0.168921</td>\n",
       "      <td>0.953929</td>\n",
       "      <td>0.336887</td>\n",
       "      <td>0.016636</td>\n",
       "      <td>0.198556</td>\n",
       "      <td>-0.077779</td>\n",
       "      <td>0.328320</td>\n",
       "      <td>0.099911</td>\n",
       "      <td>0.223886</td>\n",
       "      <td>0.222315</td>\n",
       "      <td>-0.106539</td>\n",
       "    </tr>\n",
       "    <tr>\n",
       "      <th>int_rate</th>\n",
       "      <td>0.168921</td>\n",
       "      <td>1.000000</td>\n",
       "      <td>0.162758</td>\n",
       "      <td>-0.056771</td>\n",
       "      <td>0.079038</td>\n",
       "      <td>0.011649</td>\n",
       "      <td>0.060986</td>\n",
       "      <td>-0.011280</td>\n",
       "      <td>0.293659</td>\n",
       "      <td>-0.036404</td>\n",
       "      <td>-0.082583</td>\n",
       "      <td>0.057450</td>\n",
       "    </tr>\n",
       "    <tr>\n",
       "      <th>installment</th>\n",
       "      <td>0.953929</td>\n",
       "      <td>0.162758</td>\n",
       "      <td>1.000000</td>\n",
       "      <td>0.330381</td>\n",
       "      <td>0.015786</td>\n",
       "      <td>0.188973</td>\n",
       "      <td>-0.067892</td>\n",
       "      <td>0.316455</td>\n",
       "      <td>0.123915</td>\n",
       "      <td>0.202430</td>\n",
       "      <td>0.193694</td>\n",
       "      <td>-0.098628</td>\n",
       "    </tr>\n",
       "    <tr>\n",
       "      <th>annual_inc</th>\n",
       "      <td>0.336887</td>\n",
       "      <td>-0.056771</td>\n",
       "      <td>0.330381</td>\n",
       "      <td>1.000000</td>\n",
       "      <td>-0.081685</td>\n",
       "      <td>0.136150</td>\n",
       "      <td>-0.013720</td>\n",
       "      <td>0.299773</td>\n",
       "      <td>0.027871</td>\n",
       "      <td>0.193023</td>\n",
       "      <td>0.236320</td>\n",
       "      <td>-0.050162</td>\n",
       "    </tr>\n",
       "    <tr>\n",
       "      <th>dti</th>\n",
       "      <td>0.016636</td>\n",
       "      <td>0.079038</td>\n",
       "      <td>0.015786</td>\n",
       "      <td>-0.081685</td>\n",
       "      <td>1.000000</td>\n",
       "      <td>0.136181</td>\n",
       "      <td>-0.017639</td>\n",
       "      <td>0.063571</td>\n",
       "      <td>0.088375</td>\n",
       "      <td>0.102128</td>\n",
       "      <td>-0.025439</td>\n",
       "      <td>-0.014558</td>\n",
       "    </tr>\n",
       "    <tr>\n",
       "      <th>open_acc</th>\n",
       "      <td>0.198556</td>\n",
       "      <td>0.011649</td>\n",
       "      <td>0.188973</td>\n",
       "      <td>0.136150</td>\n",
       "      <td>0.136181</td>\n",
       "      <td>1.000000</td>\n",
       "      <td>-0.018392</td>\n",
       "      <td>0.221192</td>\n",
       "      <td>-0.131420</td>\n",
       "      <td>0.680728</td>\n",
       "      <td>0.109205</td>\n",
       "      <td>-0.027732</td>\n",
       "    </tr>\n",
       "    <tr>\n",
       "      <th>pub_rec</th>\n",
       "      <td>-0.077779</td>\n",
       "      <td>0.060986</td>\n",
       "      <td>-0.067892</td>\n",
       "      <td>-0.013720</td>\n",
       "      <td>-0.017639</td>\n",
       "      <td>-0.018392</td>\n",
       "      <td>1.000000</td>\n",
       "      <td>-0.101664</td>\n",
       "      <td>-0.075910</td>\n",
       "      <td>0.019723</td>\n",
       "      <td>0.011552</td>\n",
       "      <td>0.699408</td>\n",
       "    </tr>\n",
       "    <tr>\n",
       "      <th>revol_bal</th>\n",
       "      <td>0.328320</td>\n",
       "      <td>-0.011280</td>\n",
       "      <td>0.316455</td>\n",
       "      <td>0.299773</td>\n",
       "      <td>0.063571</td>\n",
       "      <td>0.221192</td>\n",
       "      <td>-0.101664</td>\n",
       "      <td>1.000000</td>\n",
       "      <td>0.226346</td>\n",
       "      <td>0.191616</td>\n",
       "      <td>0.194925</td>\n",
       "      <td>-0.124532</td>\n",
       "    </tr>\n",
       "    <tr>\n",
       "      <th>revol_util</th>\n",
       "      <td>0.099911</td>\n",
       "      <td>0.293659</td>\n",
       "      <td>0.123915</td>\n",
       "      <td>0.027871</td>\n",
       "      <td>0.088375</td>\n",
       "      <td>-0.131420</td>\n",
       "      <td>-0.075910</td>\n",
       "      <td>0.226346</td>\n",
       "      <td>1.000000</td>\n",
       "      <td>-0.104273</td>\n",
       "      <td>0.007514</td>\n",
       "      <td>-0.086751</td>\n",
       "    </tr>\n",
       "    <tr>\n",
       "      <th>total_acc</th>\n",
       "      <td>0.223886</td>\n",
       "      <td>-0.036404</td>\n",
       "      <td>0.202430</td>\n",
       "      <td>0.193023</td>\n",
       "      <td>0.102128</td>\n",
       "      <td>0.680728</td>\n",
       "      <td>0.019723</td>\n",
       "      <td>0.191616</td>\n",
       "      <td>-0.104273</td>\n",
       "      <td>1.000000</td>\n",
       "      <td>0.381072</td>\n",
       "      <td>0.042035</td>\n",
       "    </tr>\n",
       "    <tr>\n",
       "      <th>mort_acc</th>\n",
       "      <td>0.222315</td>\n",
       "      <td>-0.082583</td>\n",
       "      <td>0.193694</td>\n",
       "      <td>0.236320</td>\n",
       "      <td>-0.025439</td>\n",
       "      <td>0.109205</td>\n",
       "      <td>0.011552</td>\n",
       "      <td>0.194925</td>\n",
       "      <td>0.007514</td>\n",
       "      <td>0.381072</td>\n",
       "      <td>1.000000</td>\n",
       "      <td>0.027239</td>\n",
       "    </tr>\n",
       "    <tr>\n",
       "      <th>pub_rec_bankruptcies</th>\n",
       "      <td>-0.106539</td>\n",
       "      <td>0.057450</td>\n",
       "      <td>-0.098628</td>\n",
       "      <td>-0.050162</td>\n",
       "      <td>-0.014558</td>\n",
       "      <td>-0.027732</td>\n",
       "      <td>0.699408</td>\n",
       "      <td>-0.124532</td>\n",
       "      <td>-0.086751</td>\n",
       "      <td>0.042035</td>\n",
       "      <td>0.027239</td>\n",
       "      <td>1.000000</td>\n",
       "    </tr>\n",
       "  </tbody>\n",
       "</table>\n",
       "</div>"
      ],
      "text/plain": [
       "                      loan_amnt  int_rate  installment  annual_inc       dti  \\\n",
       "loan_amnt              1.000000  0.168921     0.953929    0.336887  0.016636   \n",
       "int_rate               0.168921  1.000000     0.162758   -0.056771  0.079038   \n",
       "installment            0.953929  0.162758     1.000000    0.330381  0.015786   \n",
       "annual_inc             0.336887 -0.056771     0.330381    1.000000 -0.081685   \n",
       "dti                    0.016636  0.079038     0.015786   -0.081685  1.000000   \n",
       "open_acc               0.198556  0.011649     0.188973    0.136150  0.136181   \n",
       "pub_rec               -0.077779  0.060986    -0.067892   -0.013720 -0.017639   \n",
       "revol_bal              0.328320 -0.011280     0.316455    0.299773  0.063571   \n",
       "revol_util             0.099911  0.293659     0.123915    0.027871  0.088375   \n",
       "total_acc              0.223886 -0.036404     0.202430    0.193023  0.102128   \n",
       "mort_acc               0.222315 -0.082583     0.193694    0.236320 -0.025439   \n",
       "pub_rec_bankruptcies  -0.106539  0.057450    -0.098628   -0.050162 -0.014558   \n",
       "\n",
       "                      open_acc   pub_rec  revol_bal  revol_util  total_acc  \\\n",
       "loan_amnt             0.198556 -0.077779   0.328320    0.099911   0.223886   \n",
       "int_rate              0.011649  0.060986  -0.011280    0.293659  -0.036404   \n",
       "installment           0.188973 -0.067892   0.316455    0.123915   0.202430   \n",
       "annual_inc            0.136150 -0.013720   0.299773    0.027871   0.193023   \n",
       "dti                   0.136181 -0.017639   0.063571    0.088375   0.102128   \n",
       "open_acc              1.000000 -0.018392   0.221192   -0.131420   0.680728   \n",
       "pub_rec              -0.018392  1.000000  -0.101664   -0.075910   0.019723   \n",
       "revol_bal             0.221192 -0.101664   1.000000    0.226346   0.191616   \n",
       "revol_util           -0.131420 -0.075910   0.226346    1.000000  -0.104273   \n",
       "total_acc             0.680728  0.019723   0.191616   -0.104273   1.000000   \n",
       "mort_acc              0.109205  0.011552   0.194925    0.007514   0.381072   \n",
       "pub_rec_bankruptcies -0.027732  0.699408  -0.124532   -0.086751   0.042035   \n",
       "\n",
       "                      mort_acc  pub_rec_bankruptcies  \n",
       "loan_amnt             0.222315             -0.106539  \n",
       "int_rate             -0.082583              0.057450  \n",
       "installment           0.193694             -0.098628  \n",
       "annual_inc            0.236320             -0.050162  \n",
       "dti                  -0.025439             -0.014558  \n",
       "open_acc              0.109205             -0.027732  \n",
       "pub_rec               0.011552              0.699408  \n",
       "revol_bal             0.194925             -0.124532  \n",
       "revol_util            0.007514             -0.086751  \n",
       "total_acc             0.381072              0.042035  \n",
       "mort_acc              1.000000              0.027239  \n",
       "pub_rec_bankruptcies  0.027239              1.000000  "
      ]
     },
     "execution_count": 181,
     "metadata": {},
     "output_type": "execute_result"
    }
   ],
   "source": [
    "df.corr()"
   ]
  },
  {
   "cell_type": "markdown",
   "id": "320b5358",
   "metadata": {},
   "source": [
    "**Creating a seaborn heatmap for more clarity**"
   ]
  },
  {
   "cell_type": "code",
   "execution_count": 184,
   "id": "7489b22b",
   "metadata": {},
   "outputs": [
    {
     "data": {
      "text/plain": [
       "<AxesSubplot:>"
      ]
     },
     "execution_count": 184,
     "metadata": {},
     "output_type": "execute_result"
    },
    {
     "data": {
      "image/png": "[encoded data removed]",
      "text/plain": [
       "<Figure size 720x432 with 2 Axes>"
      ]
     },
     "metadata": {},
     "output_type": "display_data"
    }
   ],
   "source": [
    "plt.figure(figsize=(10,6))\n",
    "sns.heatmap(df.corr(), annot=True, cmap='viridis')"
   ]
  },
  {
   "cell_type": "markdown",
   "id": "f05acf11",
   "metadata": {},
   "source": [
    "**From initial look at heatmap, it seems like installment and loan_amnt columns are highly correlated features**"
   ]
  },
  {
   "cell_type": "code",
   "execution_count": 185,
   "id": "7a6ad1cf",
   "metadata": {},
   "outputs": [
    {
     "data": {
      "text/plain": [
       "'The listed amount of the loan applied for by the borrower. If at some point in time, the credit department reduces the loan amount, then it will be reflected in this value.'"
      ]
     },
     "execution_count": 185,
     "metadata": {},
     "output_type": "execute_result"
    }
   ],
   "source": [
    "feat_info('loan_amnt')"
   ]
  },
  {
   "cell_type": "code",
   "execution_count": 186,
   "id": "f66f23b2",
   "metadata": {},
   "outputs": [
    {
     "data": {
      "text/plain": [
       "'The monthly payment owed by the borrower if the loan originates.'"
      ]
     },
     "execution_count": 186,
     "metadata": {},
     "output_type": "execute_result"
    }
   ],
   "source": [
    "feat_info('installment')"
   ]
  },
  {
   "cell_type": "code",
   "execution_count": 187,
   "id": "a22d3e3a",
   "metadata": {},
   "outputs": [
    {
     "data": {
      "text/plain": [
       "<AxesSubplot:xlabel='loan_amnt', ylabel='installment'>"
      ]
     },
     "execution_count": 187,
     "metadata": {},
     "output_type": "execute_result"
    },
    {
     "data": {
      "image/png": "[encoded data removed]",
      "text/plain": [
       "<Figure size 720x432 with 1 Axes>"
      ]
     },
     "metadata": {},
     "output_type": "display_data"
    }
   ],
   "source": [
    "plt.figure(figsize=(10,6))\n",
    "sns.scatterplot(x='loan_amnt', y='installment', data=df , hue='loan_status')"
   ]
  },
  {
   "cell_type": "code",
   "execution_count": 216,
   "id": "86cae30c",
   "metadata": {},
   "outputs": [],
   "source": [
    "#strong linear relationship"
   ]
  },
  {
   "cell_type": "markdown",
   "id": "0792fec0",
   "metadata": {},
   "source": [
    "**loan_amnt column**"
   ]
  },
  {
   "cell_type": "code",
   "execution_count": 207,
   "id": "69433e72",
   "metadata": {},
   "outputs": [
    {
     "data": {
      "text/plain": [
       "<AxesSubplot:xlabel='loan_status', ylabel='loan_amnt'>"
      ]
     },
     "execution_count": 207,
     "metadata": {},
     "output_type": "execute_result"
    },
    {
     "data": {
      "image/png": "[encoded data removed]",
      "text/plain": [
       "<Figure size 720x432 with 1 Axes>"
      ]
     },
     "metadata": {},
     "output_type": "display_data"
    }
   ],
   "source": [
    "plt.figure(figsize=(10,6))\n",
    "sns.boxplot(x='loan_status', y='loan_amnt', data=df ,)"
   ]
  },
  {
   "cell_type": "code",
   "execution_count": 206,
   "id": "874566a1",
   "metadata": {},
   "outputs": [
    {
     "data": {
      "text/plain": [
       "loan_status\n",
       "Charged Off    15126.300967\n",
       "Fully Paid     13866.878771\n",
       "Name: loan_amnt, dtype: float64"
      ]
     },
     "execution_count": 206,
     "metadata": {},
     "output_type": "execute_result"
    }
   ],
   "source": [
    "df.groupby('loan_status')['loan_amnt'].mean()"
   ]
  },
  {
   "cell_type": "markdown",
   "id": "e89c5615",
   "metadata": {},
   "source": [
    "**It occurs that the average loan amount is slightly high for people those who are unable to payback in time** (Not Significant though)"
   ]
  },
  {
   "cell_type": "markdown",
   "id": "112d3f4c",
   "metadata": {},
   "source": [
    "**int_rate**"
   ]
  },
  {
   "cell_type": "code",
   "execution_count": 213,
   "id": "5e9b2863",
   "metadata": {},
   "outputs": [
    {
     "data": {
      "text/plain": [
       "<AxesSubplot:xlabel='loan_status', ylabel='int_rate'>"
      ]
     },
     "execution_count": 213,
     "metadata": {},
     "output_type": "execute_result"
    },
    {
     "data": {
      "image/png": "[encoded data removed]",
      "text/plain": [
       "<Figure size 720x432 with 1 Axes>"
      ]
     },
     "metadata": {},
     "output_type": "display_data"
    }
   ],
   "source": [
    "plt.figure(figsize=(10,6))\n",
    "sns.boxplot(x='loan_status', y='int_rate', data=df, palette='viridis')"
   ]
  },
  {
   "cell_type": "code",
   "execution_count": 214,
   "id": "353986b1",
   "metadata": {},
   "outputs": [
    {
     "data": {
      "text/plain": [
       "loan_status\n",
       "Charged Off    15.882587\n",
       "Fully Paid     13.092105\n",
       "Name: int_rate, dtype: float64"
      ]
     },
     "execution_count": 214,
     "metadata": {},
     "output_type": "execute_result"
    }
   ],
   "source": [
    "df.groupby('loan_status')['int_rate'].mean()"
   ]
  },
  {
   "cell_type": "markdown",
   "id": "bf4fc9a3",
   "metadata": {},
   "source": [
    "**Interest rate on an average is less for people who are able pay back**"
   ]
  },
  {
   "cell_type": "markdown",
   "id": "3307fe5c",
   "metadata": {},
   "source": [
    "**installment**"
   ]
  },
  {
   "cell_type": "code",
   "execution_count": 224,
   "id": "35c88ca7",
   "metadata": {},
   "outputs": [
    {
     "data": {
      "text/plain": [
       "<AxesSubplot:xlabel='installment', ylabel='Count'>"
      ]
     },
     "execution_count": 224,
     "metadata": {},
     "output_type": "execute_result"
    },
    {
     "data": {
      "image/png": "[encoded data removed]",
      "text/plain": [
       "<Figure size 720x432 with 1 Axes>"
      ]
     },
     "metadata": {},
     "output_type": "display_data"
    }
   ],
   "source": [
    "plt.figure(figsize=(10,6))\n",
    "sns.histplot(df.installment, bins=50)"
   ]
  },
  {
   "cell_type": "code",
   "execution_count": 225,
   "id": "8779e82d",
   "metadata": {},
   "outputs": [
    {
     "data": {
      "text/plain": [
       "'A ratio calculated using the borrower’s total monthly debt payments on the total debt obligations, excluding mortgage and the requested LC loan, divided by the borrower’s self-reported monthly income.'"
      ]
     },
     "execution_count": 225,
     "metadata": {},
     "output_type": "execute_result"
    }
   ],
   "source": [
    "feat_info('dti')"
   ]
  },
  {
   "cell_type": "code",
   "execution_count": 243,
   "id": "c23257cd",
   "metadata": {},
   "outputs": [
    {
     "data": {
      "text/plain": [
       "[0.0,\n",
       " 1.0,\n",
       " 2.0,\n",
       " 3.0,\n",
       " 4.0,\n",
       " 5.0,\n",
       " 6.0,\n",
       " 7.0,\n",
       " 8.0,\n",
       " 9.0,\n",
       " 10.0,\n",
       " 11.0,\n",
       " 12.0,\n",
       " 13.0,\n",
       " 14.0,\n",
       " 15.0,\n",
       " 16.0,\n",
       " 17.0,\n",
       " 18.0,\n",
       " 19.0,\n",
       " 20.0,\n",
       " 21.0,\n",
       " 22.0,\n",
       " 23.0,\n",
       " 24.0,\n",
       " 25.0,\n",
       " 26.0,\n",
       " 27.0,\n",
       " 28.0,\n",
       " 29.0,\n",
       " 30.0,\n",
       " 31.0,\n",
       " 32.0,\n",
       " 33.0,\n",
       " 34.0,\n",
       " 35.0,\n",
       " 36.0,\n",
       " 37.0,\n",
       " 38.0,\n",
       " 39.0,\n",
       " 40.0,\n",
       " 41.0,\n",
       " 42.0,\n",
       " 43.0,\n",
       " 44.0,\n",
       " 45.0,\n",
       " 46.0,\n",
       " 47.0,\n",
       " 48.0,\n",
       " 49.0,\n",
       " 50.0,\n",
       " 51.0,\n",
       " 52.0,\n",
       " 53.0,\n",
       " 54.0,\n",
       " 55.0,\n",
       " 56.0,\n",
       " 57.0,\n",
       " 58.0,\n",
       " 76.0,\n",
       " 90.0]"
      ]
     },
     "execution_count": 243,
     "metadata": {},
     "output_type": "execute_result"
    }
   ],
   "source": [
    "sorted(df.open_acc.unique())"
   ]
  },
  {
   "cell_type": "code",
   "execution_count": 244,
   "id": "16660cc9",
   "metadata": {},
   "outputs": [
    {
     "data": {
      "text/plain": [
       "Index(['loan_amnt', 'term', 'int_rate', 'installment', 'grade', 'sub_grade',\n",
       "       'emp_title', 'emp_length', 'home_ownership', 'annual_inc',\n",
       "       'verification_status', 'issue_d', 'loan_status', 'purpose', 'title',\n",
       "       'dti', 'earliest_cr_line', 'open_acc', 'pub_rec', 'revol_bal',\n",
       "       'revol_util', 'total_acc', 'initial_list_status', 'application_type',\n",
       "       'mort_acc', 'pub_rec_bankruptcies', 'address'],\n",
       "      dtype='object')"
      ]
     },
     "execution_count": 244,
     "metadata": {},
     "output_type": "execute_result"
    }
   ],
   "source": [
    "df.columns"
   ]
  },
  {
   "cell_type": "code",
   "execution_count": 248,
   "id": "f11e8895",
   "metadata": {},
   "outputs": [
    {
     "data": {
      "text/plain": [
       "array([ 0.,  1.,  2.,  3.,  4.,  6.,  5.,  8.,  9., 10., 11.,  7., 19.,\n",
       "       13., 40., 17., 86., 12., 24., 15.])"
      ]
     },
     "execution_count": 248,
     "metadata": {},
     "output_type": "execute_result"
    }
   ],
   "source": [
    "df.pub_rec.unique()"
   ]
  },
  {
   "cell_type": "code",
   "execution_count": 251,
   "id": "d34114da",
   "metadata": {},
   "outputs": [
    {
     "data": {
      "text/plain": [
       "'Total credit revolving balance'"
      ]
     },
     "execution_count": 251,
     "metadata": {},
     "output_type": "execute_result"
    }
   ],
   "source": [
    "feat_info('revol_bal')"
   ]
  },
  {
   "cell_type": "code",
   "execution_count": 260,
   "id": "2b9e6980",
   "metadata": {},
   "outputs": [
    {
     "data": {
      "text/plain": [
       "'Revolving line utilization rate, or the amount of credit the borrower is using relative to all available revolving credit.'"
      ]
     },
     "execution_count": 260,
     "metadata": {},
     "output_type": "execute_result"
    }
   ],
   "source": [
    "feat_info('revol_util')"
   ]
  },
  {
   "cell_type": "code",
   "execution_count": 261,
   "id": "d3ab6578",
   "metadata": {},
   "outputs": [
    {
     "data": {
      "text/plain": [
       "\"The total number of credit lines currently in the borrower's credit file\""
      ]
     },
     "execution_count": 261,
     "metadata": {},
     "output_type": "execute_result"
    }
   ],
   "source": [
    "feat_info('total_acc')"
   ]
  },
  {
   "cell_type": "code",
   "execution_count": 262,
   "id": "0ad04da2",
   "metadata": {},
   "outputs": [
    {
     "data": {
      "text/plain": [
       "0         0.0\n",
       "1         0.0\n",
       "2         0.0\n",
       "3         0.0\n",
       "4         0.0\n",
       "         ... \n",
       "396025    0.0\n",
       "396026    0.0\n",
       "396027    0.0\n",
       "396028    0.0\n",
       "396029    0.0\n",
       "Name: pub_rec_bankruptcies, Length: 396030, dtype: float64"
      ]
     },
     "execution_count": 262,
     "metadata": {},
     "output_type": "execute_result"
    }
   ],
   "source": [
    "df.pub_rec_bankruptcies"
   ]
  },
  {
   "cell_type": "code",
   "execution_count": 127,
   "id": "13343e0e",
   "metadata": {},
   "outputs": [
    {
     "data": {
      "text/plain": [
       "'The self-reported annual income provided by the borrower during registration.'"
      ]
     },
     "execution_count": 127,
     "metadata": {},
     "output_type": "execute_result"
    }
   ],
   "source": [
    "feat_info('annual_inc')"
   ]
  },
  {
   "cell_type": "code",
   "execution_count": 126,
   "id": "c4e6e1de",
   "metadata": {},
   "outputs": [
    {
     "data": {
      "text/plain": [
       "loan_status\n",
       "Charged Off    67535.537710\n",
       "Fully Paid     75829.951566\n",
       "Name: annual_inc, dtype: float64"
      ]
     },
     "execution_count": 126,
     "metadata": {},
     "output_type": "execute_result"
    }
   ],
   "source": [
    "df.groupby('loan_status')['annual_inc'].mean()"
   ]
  },
  {
   "cell_type": "code",
   "execution_count": 140,
   "id": "fec66753",
   "metadata": {},
   "outputs": [
    {
     "data": {
      "text/plain": [
       "308700    8706582.0\n",
       "318255    7600000.0\n",
       "100370    7446395.0\n",
       "376306    7141778.0\n",
       "100946    7000000.0\n",
       "            ...    \n",
       "127390       4000.0\n",
       "72405        4000.0\n",
       "7011         2500.0\n",
       "350865        600.0\n",
       "285674          0.0\n",
       "Name: annual_inc, Length: 396030, dtype: float64"
      ]
     },
     "execution_count": 140,
     "metadata": {},
     "output_type": "execute_result"
    }
   ],
   "source": [
    "df['annual_inc'].sort_values(ascending=False)"
   ]
  },
  {
   "cell_type": "code",
   "execution_count": 179,
   "id": "5e6f26e3",
   "metadata": {},
   "outputs": [
    {
     "data": {
      "text/plain": [
       "['A', 'B', 'C', 'D', 'E', 'F', 'G']"
      ]
     },
     "execution_count": 179,
     "metadata": {},
     "output_type": "execute_result"
    }
   ],
   "source": [
    "sorted(df.grade.unique())"
   ]
  },
  {
   "cell_type": "code",
   "execution_count": 180,
   "id": "e3e78e82",
   "metadata": {},
   "outputs": [
    {
     "data": {
      "text/plain": [
       "['A1',\n",
       " 'A2',\n",
       " 'A3',\n",
       " 'A4',\n",
       " 'A5',\n",
       " 'B1',\n",
       " 'B2',\n",
       " 'B3',\n",
       " 'B4',\n",
       " 'B5',\n",
       " 'C1',\n",
       " 'C2',\n",
       " 'C3',\n",
       " 'C4',\n",
       " 'C5',\n",
       " 'D1',\n",
       " 'D2',\n",
       " 'D3',\n",
       " 'D4',\n",
       " 'D5',\n",
       " 'E1',\n",
       " 'E2',\n",
       " 'E3',\n",
       " 'E4',\n",
       " 'E5',\n",
       " 'F1',\n",
       " 'F2',\n",
       " 'F3',\n",
       " 'F4',\n",
       " 'F5',\n",
       " 'G1',\n",
       " 'G2',\n",
       " 'G3',\n",
       " 'G4',\n",
       " 'G5']"
      ]
     },
     "execution_count": 180,
     "metadata": {},
     "output_type": "execute_result"
    }
   ],
   "source": [
    "sorted(df.sub_grade.unique())"
   ]
  },
  {
   "cell_type": "code",
   "execution_count": 265,
   "id": "f644ed58",
   "metadata": {},
   "outputs": [
    {
     "data": {
      "text/plain": [
       "<AxesSubplot:xlabel='grade', ylabel='count'>"
      ]
     },
     "execution_count": 265,
     "metadata": {},
     "output_type": "execute_result"
    },
    {
     "data": {
      "image/png": "[encoded data removed]",
      "text/plain": [
       "<Figure size 720x432 with 1 Axes>"
      ]
     },
     "metadata": {},
     "output_type": "display_data"
    }
   ],
   "source": [
    "plt.figure(figsize=(10,6))\n",
    "sns.countplot(x='grade',data=df,hue='loan_status')"
   ]
  },
  {
   "cell_type": "code",
   "execution_count": 269,
   "id": "9432a5d5",
   "metadata": {},
   "outputs": [
    {
     "data": {
      "text/plain": [
       "<AxesSubplot:xlabel='sub_grade', ylabel='count'>"
      ]
     },
     "execution_count": 269,
     "metadata": {},
     "output_type": "execute_result"
    },
    {
     "data": {
      "image/png": "[encoded data removed]",
      "text/plain": [
       "<Figure size 864x432 with 1 Axes>"
      ]
     },
     "metadata": {},
     "output_type": "display_data"
    }
   ],
   "source": [
    "plt.figure(figsize=(12,6))\n",
    "subgrade_order = sorted(df['sub_grade'].unique())\n",
    "sns.countplot(x='sub_grade',data=df,order = subgrade_order,palette='magma',hue='loan_status' )"
   ]
  },
  {
   "cell_type": "markdown",
   "id": "e92d1a9d",
   "metadata": {},
   "source": [
    " It looks like F and G subgrades don't get paid back that often"
   ]
  },
  {
   "cell_type": "code",
   "execution_count": 270,
   "id": "df515ac6",
   "metadata": {},
   "outputs": [
    {
     "data": {
      "text/plain": [
       "<AxesSubplot:xlabel='sub_grade', ylabel='count'>"
      ]
     },
     "execution_count": 270,
     "metadata": {},
     "output_type": "execute_result"
    },
    {
     "data": {
      "image/png": "[encoded data removed]",
      "text/plain": [
       "<Figure size 864x288 with 1 Axes>"
      ]
     },
     "metadata": {},
     "output_type": "display_data"
    }
   ],
   "source": [
    "f_and_g = df[(df['grade']=='G') | (df['grade']=='F')]\n",
    "\n",
    "plt.figure(figsize=(12,4))\n",
    "subgrade_order = sorted(f_and_g['sub_grade'].unique())\n",
    "sns.countplot(x='sub_grade',data=f_and_g,order = subgrade_order,hue='loan_status')"
   ]
  },
  {
   "cell_type": "markdown",
   "id": "844de822",
   "metadata": {},
   "source": [
    "**Mapping loan_status values as binary 0 and 1**"
   ]
  },
  {
   "cell_type": "code",
   "execution_count": 271,
   "id": "4b2dc2ed",
   "metadata": {},
   "outputs": [
    {
     "data": {
      "text/plain": [
       "array(['Fully Paid', 'Charged Off'], dtype=object)"
      ]
     },
     "execution_count": 271,
     "metadata": {},
     "output_type": "execute_result"
    }
   ],
   "source": [
    "df['loan_status'].unique()"
   ]
  },
  {
   "cell_type": "code",
   "execution_count": 272,
   "id": "e6459822",
   "metadata": {},
   "outputs": [],
   "source": [
    "df['loan_repaid'] = df['loan_status'].map({'Fully Paid':1,'Charged Off':0})"
   ]
  },
  {
   "cell_type": "code",
   "execution_count": 273,
   "id": "c4704ae1",
   "metadata": {},
   "outputs": [
    {
     "data": {
      "text/html": [
       "<div>\n",
       "<style scoped>\n",
       "    .dataframe tbody tr th:only-of-type {\n",
       "        vertical-align: middle;\n",
       "    }\n",
       "\n",
       "    .dataframe tbody tr th {\n",
       "        vertical-align: top;\n",
       "    }\n",
       "\n",
       "    .dataframe thead th {\n",
       "        text-align: right;\n",
       "    }\n",
       "</style>\n",
       "<table border=\"1\" class=\"dataframe\">\n",
       "  <thead>\n",
       "    <tr style=\"text-align: right;\">\n",
       "      <th></th>\n",
       "      <th>loan_repaid</th>\n",
       "      <th>loan_status</th>\n",
       "    </tr>\n",
       "  </thead>\n",
       "  <tbody>\n",
       "    <tr>\n",
       "      <th>0</th>\n",
       "      <td>1</td>\n",
       "      <td>Fully Paid</td>\n",
       "    </tr>\n",
       "    <tr>\n",
       "      <th>1</th>\n",
       "      <td>1</td>\n",
       "      <td>Fully Paid</td>\n",
       "    </tr>\n",
       "    <tr>\n",
       "      <th>2</th>\n",
       "      <td>1</td>\n",
       "      <td>Fully Paid</td>\n",
       "    </tr>\n",
       "    <tr>\n",
       "      <th>3</th>\n",
       "      <td>1</td>\n",
       "      <td>Fully Paid</td>\n",
       "    </tr>\n",
       "    <tr>\n",
       "      <th>4</th>\n",
       "      <td>0</td>\n",
       "      <td>Charged Off</td>\n",
       "    </tr>\n",
       "    <tr>\n",
       "      <th>...</th>\n",
       "      <td>...</td>\n",
       "      <td>...</td>\n",
       "    </tr>\n",
       "    <tr>\n",
       "      <th>396025</th>\n",
       "      <td>1</td>\n",
       "      <td>Fully Paid</td>\n",
       "    </tr>\n",
       "    <tr>\n",
       "      <th>396026</th>\n",
       "      <td>1</td>\n",
       "      <td>Fully Paid</td>\n",
       "    </tr>\n",
       "    <tr>\n",
       "      <th>396027</th>\n",
       "      <td>1</td>\n",
       "      <td>Fully Paid</td>\n",
       "    </tr>\n",
       "    <tr>\n",
       "      <th>396028</th>\n",
       "      <td>1</td>\n",
       "      <td>Fully Paid</td>\n",
       "    </tr>\n",
       "    <tr>\n",
       "      <th>396029</th>\n",
       "      <td>1</td>\n",
       "      <td>Fully Paid</td>\n",
       "    </tr>\n",
       "  </tbody>\n",
       "</table>\n",
       "<p>396030 rows × 2 columns</p>\n",
       "</div>"
      ],
      "text/plain": [
       "        loan_repaid  loan_status\n",
       "0                 1   Fully Paid\n",
       "1                 1   Fully Paid\n",
       "2                 1   Fully Paid\n",
       "3                 1   Fully Paid\n",
       "4                 0  Charged Off\n",
       "...             ...          ...\n",
       "396025            1   Fully Paid\n",
       "396026            1   Fully Paid\n",
       "396027            1   Fully Paid\n",
       "396028            1   Fully Paid\n",
       "396029            1   Fully Paid\n",
       "\n",
       "[396030 rows x 2 columns]"
      ]
     },
     "execution_count": 273,
     "metadata": {},
     "output_type": "execute_result"
    }
   ],
   "source": [
    "df[['loan_repaid','loan_status']]"
   ]
  },
  {
   "cell_type": "markdown",
   "id": "c80f54ea",
   "metadata": {},
   "source": [
    "#Bar plot showing the correlation of the numeric features to the new loan_repaid column. "
   ]
  },
  {
   "cell_type": "code",
   "execution_count": 283,
   "id": "d3afb838",
   "metadata": {},
   "outputs": [
    {
     "data": {
      "text/plain": [
       "mort_acc                0.073111\n",
       "annual_inc              0.053432\n",
       "total_acc               0.017893\n",
       "revol_bal               0.010892\n",
       "pub_rec_bankruptcies   -0.009383\n",
       "pub_rec                -0.019933\n",
       "open_acc               -0.028012\n",
       "installment            -0.041082\n",
       "loan_amnt              -0.059836\n",
       "dti                    -0.062413\n",
       "revol_util             -0.082373\n",
       "int_rate               -0.247758\n",
       "Name: loan_repaid, dtype: float64"
      ]
     },
     "execution_count": 283,
     "metadata": {},
     "output_type": "execute_result"
    }
   ],
   "source": [
    "df.corr()['loan_repaid'].sort_values(ascending=False)[1:]"
   ]
  },
  {
   "cell_type": "code",
   "execution_count": 290,
   "id": "7d667937",
   "metadata": {},
   "outputs": [
    {
     "data": {
      "text/plain": [
       "<AxesSubplot:>"
      ]
     },
     "execution_count": 290,
     "metadata": {},
     "output_type": "execute_result"
    },
    {
     "data": {
      "image/png": "[encoded data removed]",
      "text/plain": [
       "<Figure size 432x288 with 1 Axes>"
      ]
     },
     "metadata": {},
     "output_type": "display_data"
    }
   ],
   "source": [
    "df.corr()['loan_repaid'].sort_values(ascending=False)[1:].plot(kind='bar')"
   ]
  },
  {
   "cell_type": "markdown",
   "id": "af46aaf4",
   "metadata": {},
   "source": [
    "# Data PreProcessing"
   ]
  },
  {
   "cell_type": "markdown",
   "id": "9d7ce29d",
   "metadata": {},
   "source": [
    "**Remove or fill any missing data. Remove unnecessary or repetitive features. Convert categorical string features to dummy variables.**"
   ]
  },
  {
   "cell_type": "code",
   "execution_count": 292,
   "id": "a279c953",
   "metadata": {},
   "outputs": [
    {
     "data": {
      "text/html": [
       "<div>\n",
       "<style scoped>\n",
       "    .dataframe tbody tr th:only-of-type {\n",
       "        vertical-align: middle;\n",
       "    }\n",
       "\n",
       "    .dataframe tbody tr th {\n",
       "        vertical-align: top;\n",
       "    }\n",
       "\n",
       "    .dataframe thead th {\n",
       "        text-align: right;\n",
       "    }\n",
       "</style>\n",
       "<table border=\"1\" class=\"dataframe\">\n",
       "  <thead>\n",
       "    <tr style=\"text-align: right;\">\n",
       "      <th></th>\n",
       "      <th>loan_amnt</th>\n",
       "      <th>term</th>\n",
       "      <th>int_rate</th>\n",
       "      <th>installment</th>\n",
       "      <th>grade</th>\n",
       "      <th>sub_grade</th>\n",
       "      <th>emp_title</th>\n",
       "      <th>emp_length</th>\n",
       "      <th>home_ownership</th>\n",
       "      <th>annual_inc</th>\n",
       "      <th>...</th>\n",
       "      <th>pub_rec</th>\n",
       "      <th>revol_bal</th>\n",
       "      <th>revol_util</th>\n",
       "      <th>total_acc</th>\n",
       "      <th>initial_list_status</th>\n",
       "      <th>application_type</th>\n",
       "      <th>mort_acc</th>\n",
       "      <th>pub_rec_bankruptcies</th>\n",
       "      <th>address</th>\n",
       "      <th>loan_repaid</th>\n",
       "    </tr>\n",
       "  </thead>\n",
       "  <tbody>\n",
       "    <tr>\n",
       "      <th>0</th>\n",
       "      <td>10000.0</td>\n",
       "      <td>36 months</td>\n",
       "      <td>11.44</td>\n",
       "      <td>329.48</td>\n",
       "      <td>B</td>\n",
       "      <td>B4</td>\n",
       "      <td>Marketing</td>\n",
       "      <td>10+ years</td>\n",
       "      <td>RENT</td>\n",
       "      <td>117000.0</td>\n",
       "      <td>...</td>\n",
       "      <td>0.0</td>\n",
       "      <td>36369.0</td>\n",
       "      <td>41.8</td>\n",
       "      <td>25.0</td>\n",
       "      <td>w</td>\n",
       "      <td>INDIVIDUAL</td>\n",
       "      <td>0.0</td>\n",
       "      <td>0.0</td>\n",
       "      <td>0174 Michelle Gateway\\nMendozaberg, OK 22690</td>\n",
       "      <td>1</td>\n",
       "    </tr>\n",
       "    <tr>\n",
       "      <th>1</th>\n",
       "      <td>8000.0</td>\n",
       "      <td>36 months</td>\n",
       "      <td>11.99</td>\n",
       "      <td>265.68</td>\n",
       "      <td>B</td>\n",
       "      <td>B5</td>\n",
       "      <td>Credit analyst</td>\n",
       "      <td>4 years</td>\n",
       "      <td>MORTGAGE</td>\n",
       "      <td>65000.0</td>\n",
       "      <td>...</td>\n",
       "      <td>0.0</td>\n",
       "      <td>20131.0</td>\n",
       "      <td>53.3</td>\n",
       "      <td>27.0</td>\n",
       "      <td>f</td>\n",
       "      <td>INDIVIDUAL</td>\n",
       "      <td>3.0</td>\n",
       "      <td>0.0</td>\n",
       "      <td>1076 Carney Fort Apt. 347\\nLoganmouth, SD 05113</td>\n",
       "      <td>1</td>\n",
       "    </tr>\n",
       "  </tbody>\n",
       "</table>\n",
       "<p>2 rows × 28 columns</p>\n",
       "</div>"
      ],
      "text/plain": [
       "   loan_amnt        term  int_rate  installment grade sub_grade  \\\n",
       "0    10000.0   36 months     11.44       329.48     B        B4   \n",
       "1     8000.0   36 months     11.99       265.68     B        B5   \n",
       "\n",
       "         emp_title emp_length home_ownership  annual_inc  ... pub_rec  \\\n",
       "0        Marketing  10+ years           RENT    117000.0  ...     0.0   \n",
       "1  Credit analyst     4 years       MORTGAGE     65000.0  ...     0.0   \n",
       "\n",
       "  revol_bal revol_util total_acc initial_list_status  application_type  \\\n",
       "0   36369.0       41.8      25.0                   w        INDIVIDUAL   \n",
       "1   20131.0       53.3      27.0                   f        INDIVIDUAL   \n",
       "\n",
       "  mort_acc  pub_rec_bankruptcies  \\\n",
       "0      0.0                   0.0   \n",
       "1      3.0                   0.0   \n",
       "\n",
       "                                           address  loan_repaid  \n",
       "0     0174 Michelle Gateway\\nMendozaberg, OK 22690            1  \n",
       "1  1076 Carney Fort Apt. 347\\nLoganmouth, SD 05113            1  \n",
       "\n",
       "[2 rows x 28 columns]"
      ]
     },
     "execution_count": 292,
     "metadata": {},
     "output_type": "execute_result"
    }
   ],
   "source": [
    "df.head(2)"
   ]
  },
  {
   "cell_type": "code",
   "execution_count": 293,
   "id": "fcb58b45",
   "metadata": {},
   "outputs": [
    {
     "data": {
      "text/plain": [
       "Index(['loan_amnt', 'term', 'int_rate', 'installment', 'grade', 'sub_grade',\n",
       "       'emp_title', 'emp_length', 'home_ownership', 'annual_inc',\n",
       "       'verification_status', 'issue_d', 'loan_status', 'purpose', 'title',\n",
       "       'dti', 'earliest_cr_line', 'open_acc', 'pub_rec', 'revol_bal',\n",
       "       'revol_util', 'total_acc', 'initial_list_status', 'application_type',\n",
       "       'mort_acc', 'pub_rec_bankruptcies', 'address', 'loan_repaid'],\n",
       "      dtype='object')"
      ]
     },
     "execution_count": 293,
     "metadata": {},
     "output_type": "execute_result"
    }
   ],
   "source": [
    "df.columns"
   ]
  },
  {
   "cell_type": "code",
   "execution_count": 294,
   "id": "0ac750e7",
   "metadata": {},
   "outputs": [],
   "source": [
    "#Since we have mapped loan_status column, dropping it from original dataset\n",
    "\n",
    "df.drop('loan_status',axis=1,inplace=True)"
   ]
  },
  {
   "cell_type": "code",
   "execution_count": 296,
   "id": "d810ca57",
   "metadata": {},
   "outputs": [
    {
     "data": {
      "text/plain": [
       "loan_amnt                   0\n",
       "term                        0\n",
       "int_rate                    0\n",
       "installment                 0\n",
       "grade                       0\n",
       "sub_grade                   0\n",
       "emp_title               22927\n",
       "emp_length              18301\n",
       "home_ownership              0\n",
       "annual_inc                  0\n",
       "verification_status         0\n",
       "issue_d                     0\n",
       "purpose                     0\n",
       "title                    1755\n",
       "dti                         0\n",
       "earliest_cr_line            0\n",
       "open_acc                    0\n",
       "pub_rec                     0\n",
       "revol_bal                   0\n",
       "revol_util                276\n",
       "total_acc                   0\n",
       "initial_list_status         0\n",
       "application_type            0\n",
       "mort_acc                37795\n",
       "pub_rec_bankruptcies      535\n",
       "address                     0\n",
       "loan_repaid                 0\n",
       "dtype: int64"
      ]
     },
     "execution_count": 296,
     "metadata": {},
     "output_type": "execute_result"
    }
   ],
   "source": [
    "df.isnull().sum()"
   ]
  },
  {
   "cell_type": "markdown",
   "id": "7bcaa8b3",
   "metadata": {},
   "source": [
    "**Dealing with missing data**"
   ]
  },
  {
   "cell_type": "code",
   "execution_count": null,
   "id": "a9e40484",
   "metadata": {},
   "outputs": [],
   "source": [
    "#Data missing in terms of percentage"
   ]
  },
  {
   "cell_type": "code",
   "execution_count": 309,
   "id": "284bca56",
   "metadata": {},
   "outputs": [
    {
     "data": {
      "text/plain": [
       "loan_amnt               0.000000\n",
       "term                    0.000000\n",
       "int_rate                0.000000\n",
       "installment             0.000000\n",
       "grade                   0.000000\n",
       "sub_grade               0.000000\n",
       "emp_title               5.789208\n",
       "emp_length              4.621115\n",
       "home_ownership          0.000000\n",
       "annual_inc              0.000000\n",
       "verification_status     0.000000\n",
       "issue_d                 0.000000\n",
       "purpose                 0.000000\n",
       "title                   0.443148\n",
       "dti                     0.000000\n",
       "earliest_cr_line        0.000000\n",
       "open_acc                0.000000\n",
       "pub_rec                 0.000000\n",
       "revol_bal               0.000000\n",
       "revol_util              0.069692\n",
       "total_acc               0.000000\n",
       "initial_list_status     0.000000\n",
       "application_type        0.000000\n",
       "mort_acc                9.543469\n",
       "pub_rec_bankruptcies    0.135091\n",
       "address                 0.000000\n",
       "loan_repaid             0.000000\n",
       "dtype: float64"
      ]
     },
     "execution_count": 309,
     "metadata": {},
     "output_type": "execute_result"
    }
   ],
   "source": [
    "(df.isnull().sum()* 100)/ len(df)\n"
   ]
  },
  {
   "cell_type": "code",
   "execution_count": 313,
   "id": "aed138dd",
   "metadata": {},
   "outputs": [
    {
     "data": {
      "text/plain": [
       "37622.85"
      ]
     },
     "execution_count": 313,
     "metadata": {},
     "output_type": "execute_result"
    }
   ],
   "source": [
    "0.095*len(df)\n"
   ]
  },
  {
   "cell_type": "code",
   "execution_count": 317,
   "id": "db43e9dd",
   "metadata": {},
   "outputs": [
    {
     "name": "stdout",
     "output_type": "stream",
     "text": [
      "Number of mortgage accounts.\n"
     ]
    }
   ],
   "source": [
    "#mort_acc approx 37622 rows data missing, can't drop \n",
    "\n",
    "print(feat_info('mort_acc'))"
   ]
  },
  {
   "cell_type": "code",
   "execution_count": 319,
   "id": "b3dd70aa",
   "metadata": {},
   "outputs": [
    {
     "data": {
      "text/plain": [
       "0.0     139777\n",
       "1.0      60416\n",
       "2.0      49948\n",
       "3.0      38049\n",
       "4.0      27887\n",
       "5.0      18194\n",
       "6.0      11069\n",
       "7.0       6052\n",
       "8.0       3121\n",
       "9.0       1656\n",
       "10.0       865\n",
       "11.0       479\n",
       "12.0       264\n",
       "13.0       146\n",
       "14.0       107\n",
       "15.0        61\n",
       "16.0        37\n",
       "17.0        22\n",
       "18.0        18\n",
       "19.0        15\n",
       "20.0        13\n",
       "24.0        10\n",
       "22.0         7\n",
       "21.0         4\n",
       "25.0         4\n",
       "27.0         3\n",
       "32.0         2\n",
       "31.0         2\n",
       "23.0         2\n",
       "26.0         2\n",
       "28.0         1\n",
       "30.0         1\n",
       "34.0         1\n",
       "Name: mort_acc, dtype: int64"
      ]
     },
     "execution_count": 319,
     "metadata": {},
     "output_type": "execute_result"
    }
   ],
   "source": [
    "df.mort_acc.value_counts()"
   ]
  },
  {
   "cell_type": "code",
   "execution_count": 325,
   "id": "9f73e467",
   "metadata": {},
   "outputs": [
    {
     "name": "stdout",
     "output_type": "stream",
     "text": [
      "Mean of mort_acc column per sub_grade\n"
     ]
    },
    {
     "data": {
      "text/plain": [
       "sub_grade\n",
       "A1    3.0\n",
       "A2    2.0\n",
       "A3    2.0\n",
       "A4    2.0\n",
       "A5    2.0\n",
       "B1    2.0\n",
       "B2    2.0\n",
       "B3    2.0\n",
       "B4    2.0\n",
       "B5    2.0\n",
       "C1    2.0\n",
       "C2    2.0\n",
       "C3    2.0\n",
       "C4    2.0\n",
       "C5    2.0\n",
       "D1    2.0\n",
       "D2    2.0\n",
       "D3    2.0\n",
       "D4    2.0\n",
       "D5    2.0\n",
       "E1    2.0\n",
       "E2    2.0\n",
       "E3    2.0\n",
       "E4    2.0\n",
       "E5    2.0\n",
       "F1    2.0\n",
       "F2    2.0\n",
       "F3    2.0\n",
       "F4    2.0\n",
       "F5    2.0\n",
       "G1    2.0\n",
       "G2    2.0\n",
       "G3    2.0\n",
       "G4    2.0\n",
       "G5    2.0\n",
       "Name: mort_acc, dtype: float64"
      ]
     },
     "execution_count": 325,
     "metadata": {},
     "output_type": "execute_result"
    }
   ],
   "source": [
    "print(\"Mean of mort_acc column per sub_grade\")\n",
    "mort_acc_new=df.groupby('sub_grade')['mort_acc'].mean().round()\n",
    "mort_acc_new"
   ]
  },
  {
   "cell_type": "code",
   "execution_count": 326,
   "id": "8a979e73",
   "metadata": {},
   "outputs": [],
   "source": [
    "def fill_mort_acc(sub_grade,mort_acc):\n",
    "    if np.isnan(mort_acc):\n",
    "        return mort_acc_new[sub_grade]\n",
    "    else:\n",
    "        return mort_acc"
   ]
  },
  {
   "cell_type": "code",
   "execution_count": 328,
   "id": "d68f4ff6",
   "metadata": {},
   "outputs": [],
   "source": [
    "df['mort_acc'] = df.apply(lambda x: fill_mort_acc(x['sub_grade'], x['mort_acc']), axis=1)"
   ]
  },
  {
   "cell_type": "markdown",
   "id": "c5a867a8",
   "metadata": {},
   "source": [
    "**emp_title has approx 23000 rows data missing**"
   ]
  },
  {
   "cell_type": "code",
   "execution_count": 333,
   "id": "9dbc849c",
   "metadata": {},
   "outputs": [],
   "source": [
    "#5.789*len(df)\n",
    "#2292617.67/100= 22926"
   ]
  },
  {
   "cell_type": "code",
   "execution_count": 334,
   "id": "b504c850",
   "metadata": {},
   "outputs": [
    {
     "data": {
      "text/plain": [
       "'The job title supplied by the Borrower when applying for the loan.*'"
      ]
     },
     "execution_count": 334,
     "metadata": {},
     "output_type": "execute_result"
    }
   ],
   "source": [
    "feat_info('emp_title')"
   ]
  },
  {
   "cell_type": "code",
   "execution_count": 337,
   "id": "467c7cf2",
   "metadata": {},
   "outputs": [
    {
     "data": {
      "text/plain": [
       "count      373103\n",
       "unique     173105\n",
       "top       Teacher\n",
       "freq         4389\n",
       "Name: emp_title, dtype: object"
      ]
     },
     "execution_count": 337,
     "metadata": {},
     "output_type": "execute_result"
    }
   ],
   "source": [
    "df.emp_title.describe()"
   ]
  },
  {
   "cell_type": "markdown",
   "id": "5a8c5235",
   "metadata": {},
   "source": [
    "**Realistically there are too many unique job titles to try to convert this to a dummy variable feature. Let's remove that emp_title column.**\n"
   ]
  },
  {
   "cell_type": "code",
   "execution_count": 338,
   "id": "c7b1505b",
   "metadata": {},
   "outputs": [],
   "source": [
    "\n",
    "df.drop('emp_title', axis=1, inplace=True)"
   ]
  },
  {
   "cell_type": "markdown",
   "id": "ac88173d",
   "metadata": {},
   "source": [
    "**emp_length has almost 18300 rows data missing**"
   ]
  },
  {
   "cell_type": "code",
   "execution_count": 342,
   "id": "972a1e54",
   "metadata": {},
   "outputs": [],
   "source": [
    "#(4.621*len(df))/100"
   ]
  },
  {
   "cell_type": "code",
   "execution_count": 344,
   "id": "fe4841ba",
   "metadata": {},
   "outputs": [
    {
     "data": {
      "text/plain": [
       "'Employment length in years. Possible values are between 0 and 10 where 0 means less than one year and 10 means ten or more years. '"
      ]
     },
     "execution_count": 344,
     "metadata": {},
     "output_type": "execute_result"
    }
   ],
   "source": [
    "feat_info('emp_length')"
   ]
  },
  {
   "cell_type": "code",
   "execution_count": 364,
   "id": "12f66999",
   "metadata": {},
   "outputs": [],
   "source": [
    "emp_length_order = [ '< 1 year',\n",
    "                      '1 year',\n",
    "                     '2 years',\n",
    "                     '3 years',\n",
    "                     '4 years',\n",
    "                     '5 years',\n",
    "                     '6 years',\n",
    "                     '7 years',\n",
    "                     '8 years',\n",
    "                     '9 years',\n",
    "                     '10+ years']"
   ]
  },
  {
   "cell_type": "code",
   "execution_count": 367,
   "id": "fedaa593",
   "metadata": {},
   "outputs": [
    {
     "data": {
      "text/plain": [
       "<AxesSubplot:xlabel='emp_length', ylabel='count'>"
      ]
     },
     "execution_count": 367,
     "metadata": {},
     "output_type": "execute_result"
    },
    {
     "data": {
      "image/png": "[encoded data removed]",
      "text/plain": [
       "<Figure size 720x432 with 1 Axes>"
      ]
     },
     "metadata": {},
     "output_type": "display_data"
    }
   ],
   "source": [
    "plt.figure(figsize=(10,6))\n",
    "sns.countplot(x='emp_length', data=df, hue='loan_repaid',order=emp_length_order)"
   ]
  },
  {
   "cell_type": "code",
   "execution_count": 385,
   "id": "7cde7f31",
   "metadata": {},
   "outputs": [
    {
     "data": {
      "text/plain": [
       "array(['10+ years', '4 years', '< 1 year', '6 years', '9 years',\n",
       "       '2 years', '3 years', '8 years', '7 years', '5 years', '1 year',\n",
       "       nan], dtype=object)"
      ]
     },
     "execution_count": 385,
     "metadata": {},
     "output_type": "execute_result"
    }
   ],
   "source": [
    "df.emp_length.unique()"
   ]
  },
  {
   "cell_type": "code",
   "execution_count": 388,
   "id": "6eb5ee90",
   "metadata": {},
   "outputs": [],
   "source": [
    "#changing emp_length datatype to numerical"
   ]
  },
  {
   "cell_type": "code",
   "execution_count": 391,
   "id": "877a545f",
   "metadata": {},
   "outputs": [],
   "source": [
    "df['emp_length'].replace(['10+ years', '4 years', '< 1 year', '6 years', '9 years',\n",
    "       '2 years', '3 years', '8 years', '7 years', '5 years', '1 year'],[10,4,0,6,9,2,3,8,7,5,1],inplace=True)"
   ]
  },
  {
   "cell_type": "code",
   "execution_count": 405,
   "id": "cd6b762e",
   "metadata": {},
   "outputs": [
    {
     "name": "stdout",
     "output_type": "stream",
     "text": [
      "Average Employee length by sub-grade\n",
      "sub_grade\n",
      "A1    6.010588\n",
      "A2    5.880607\n",
      "A3    5.894061\n",
      "A4    5.821204\n",
      "A5    5.913046\n",
      "B1    6.013129\n",
      "B2    5.982739\n",
      "B3    5.935657\n",
      "B4    5.912095\n",
      "B5    5.902170\n",
      "C1    5.880856\n",
      "C2    5.904536\n",
      "C3    5.946636\n",
      "C4    5.984006\n",
      "C5    5.989097\n",
      "D1    5.871174\n",
      "D2    5.890307\n",
      "D3    5.864512\n",
      "D4    5.939476\n",
      "D5    6.012950\n",
      "E1    5.947047\n",
      "E2    5.952582\n",
      "E3    6.016391\n",
      "E4    6.040852\n",
      "E5    6.092199\n",
      "F1    6.065501\n",
      "F2    5.990967\n",
      "F3    5.988187\n",
      "F4    6.109438\n",
      "F5    6.172876\n",
      "G1    6.085884\n",
      "G2    6.117566\n",
      "G3    6.056711\n",
      "G4    6.256906\n",
      "G5    6.291391\n",
      "Name: emp_length, dtype: float64\n"
     ]
    }
   ],
   "source": [
    "print('Average Employee length by sub-grade')\n",
    "print(df.groupby('sub_grade')['emp_length'].mean())"
   ]
  },
  {
   "cell_type": "code",
   "execution_count": 406,
   "id": "90b912c4",
   "metadata": {},
   "outputs": [],
   "source": [
    "#filling missing emp_length data with average emp_length per sub_grade"
   ]
  },
  {
   "cell_type": "code",
   "execution_count": 398,
   "id": "4256d9ec",
   "metadata": {},
   "outputs": [],
   "source": [
    "emp_length_new=df.groupby('sub_grade')['emp_length'].mean()"
   ]
  },
  {
   "cell_type": "code",
   "execution_count": 399,
   "id": "3aad0a76",
   "metadata": {},
   "outputs": [],
   "source": [
    "def fill_emp_length(sub_grade,emp_length):\n",
    "    if np.isnan(emp_length):\n",
    "        return emp_length_new[sub_grade]\n",
    "    else:\n",
    "        return emp_length"
   ]
  },
  {
   "cell_type": "code",
   "execution_count": 400,
   "id": "4c7a9336",
   "metadata": {},
   "outputs": [],
   "source": [
    "df['emp_length'] = df.apply(lambda x: fill_emp_length(x['sub_grade'], x['emp_length']), axis=1)"
   ]
  },
  {
   "cell_type": "code",
   "execution_count": 408,
   "id": "7bc6f5b4",
   "metadata": {},
   "outputs": [],
   "source": [
    "#dropping grade column as we already have sub_grade\n",
    "df.drop('grade',axis=1, inplace= True)"
   ]
  },
  {
   "cell_type": "markdown",
   "id": "d4697e7e",
   "metadata": {},
   "source": [
    "**title**"
   ]
  },
  {
   "cell_type": "code",
   "execution_count": 429,
   "id": "dbafb3ee",
   "metadata": {},
   "outputs": [
    {
     "data": {
      "text/plain": [
       "0              vacation\n",
       "1    debt_consolidation\n",
       "2           credit_card\n",
       "3           credit_card\n",
       "4           credit_card\n",
       "5    debt_consolidation\n",
       "6      home_improvement\n",
       "7           credit_card\n",
       "8    debt_consolidation\n",
       "9    debt_consolidation\n",
       "Name: purpose, dtype: object"
      ]
     },
     "execution_count": 429,
     "metadata": {},
     "output_type": "execute_result"
    }
   ],
   "source": [
    "df['purpose'].head(10)"
   ]
  },
  {
   "cell_type": "code",
   "execution_count": null,
   "id": "0b6585e4",
   "metadata": {},
   "outputs": [],
   "source": []
  },
  {
   "cell_type": "markdown",
   "id": "763648be",
   "metadata": {},
   "source": [
    "**title**\n",
    "\n",
    "\n",
    " The title column is simply a string subcategory/description of the purpose column. Go ahead and drop the title column"
   ]
  },
  {
   "cell_type": "code",
   "execution_count": 419,
   "id": "5d32038c",
   "metadata": {},
   "outputs": [],
   "source": [
    "df.drop('title',axis=1, inplace= True)"
   ]
  },
  {
   "cell_type": "code",
   "execution_count": 427,
   "id": "2e1dbf9b",
   "metadata": {},
   "outputs": [],
   "source": [
    "# Dropping any null values left\n"
   ]
  },
  {
   "cell_type": "code",
   "execution_count": 428,
   "id": "bbf03704",
   "metadata": {},
   "outputs": [
    {
     "data": {
      "text/plain": [
       "loan_amnt                 0\n",
       "term                      0\n",
       "int_rate                  0\n",
       "installment               0\n",
       "sub_grade                 0\n",
       "emp_length                0\n",
       "home_ownership            0\n",
       "annual_inc                0\n",
       "verification_status       0\n",
       "issue_d                   0\n",
       "purpose                   0\n",
       "dti                       0\n",
       "earliest_cr_line          0\n",
       "open_acc                  0\n",
       "pub_rec                   0\n",
       "revol_bal                 0\n",
       "revol_util              276\n",
       "total_acc                 0\n",
       "initial_list_status       0\n",
       "application_type          0\n",
       "mort_acc                  0\n",
       "pub_rec_bankruptcies    535\n",
       "address                   0\n",
       "loan_repaid               0\n",
       "dtype: int64"
      ]
     },
     "execution_count": 428,
     "metadata": {},
     "output_type": "execute_result"
    }
   ],
   "source": [
    "df.isnull().sum()"
   ]
  },
  {
   "cell_type": "code",
   "execution_count": 433,
   "id": "8a80d140",
   "metadata": {},
   "outputs": [],
   "source": [
    "df.dropna(inplace=True)"
   ]
  },
  {
   "cell_type": "code",
   "execution_count": 434,
   "id": "0714fd77",
   "metadata": {},
   "outputs": [
    {
     "data": {
      "text/plain": [
       "loan_amnt               0\n",
       "term                    0\n",
       "int_rate                0\n",
       "installment             0\n",
       "sub_grade               0\n",
       "emp_length              0\n",
       "home_ownership          0\n",
       "annual_inc              0\n",
       "verification_status     0\n",
       "issue_d                 0\n",
       "purpose                 0\n",
       "dti                     0\n",
       "earliest_cr_line        0\n",
       "open_acc                0\n",
       "pub_rec                 0\n",
       "revol_bal               0\n",
       "revol_util              0\n",
       "total_acc               0\n",
       "initial_list_status     0\n",
       "application_type        0\n",
       "mort_acc                0\n",
       "pub_rec_bankruptcies    0\n",
       "address                 0\n",
       "loan_repaid             0\n",
       "dtype: int64"
      ]
     },
     "execution_count": 434,
     "metadata": {},
     "output_type": "execute_result"
    }
   ],
   "source": [
    "df.isnull().sum()"
   ]
  },
  {
   "cell_type": "markdown",
   "id": "b5f09c73",
   "metadata": {},
   "source": [
    "# Categorical Variables and Dummy Variables"
   ]
  },
  {
   "cell_type": "code",
   "execution_count": 435,
   "id": "c613c9f8",
   "metadata": {},
   "outputs": [
    {
     "data": {
      "text/plain": [
       "Index(['term', 'sub_grade', 'home_ownership', 'verification_status', 'issue_d',\n",
       "       'purpose', 'earliest_cr_line', 'initial_list_status',\n",
       "       'application_type', 'address'],\n",
       "      dtype='object')"
      ]
     },
     "execution_count": 435,
     "metadata": {},
     "output_type": "execute_result"
    }
   ],
   "source": [
    "df.select_dtypes(['object']).columns"
   ]
  },
  {
   "cell_type": "markdown",
   "id": "5f444f71",
   "metadata": {},
   "source": [
    "**term**"
   ]
  },
  {
   "cell_type": "code",
   "execution_count": 437,
   "id": "76898bdd",
   "metadata": {},
   "outputs": [
    {
     "data": {
      "text/plain": [
       " 36 months    301247\n",
       " 60 months     93972\n",
       "Name: term, dtype: int64"
      ]
     },
     "execution_count": 437,
     "metadata": {},
     "output_type": "execute_result"
    }
   ],
   "source": [
    "df.term.value_counts()"
   ]
  },
  {
   "cell_type": "code",
   "execution_count": 438,
   "id": "69fad0f3",
   "metadata": {},
   "outputs": [],
   "source": [
    "df['term'] = df['term'].apply(lambda term: int(term[:3]))"
   ]
  },
  {
   "cell_type": "code",
   "execution_count": 439,
   "id": "a1af12e7",
   "metadata": {},
   "outputs": [
    {
     "data": {
      "text/plain": [
       "36    301247\n",
       "60     93972\n",
       "Name: term, dtype: int64"
      ]
     },
     "execution_count": 439,
     "metadata": {},
     "output_type": "execute_result"
    }
   ],
   "source": [
    "df.term.value_counts()"
   ]
  },
  {
   "cell_type": "markdown",
   "id": "fcc59997",
   "metadata": {},
   "source": [
    "**sub_grade**"
   ]
  },
  {
   "cell_type": "code",
   "execution_count": 443,
   "id": "bd15270e",
   "metadata": {},
   "outputs": [],
   "source": [
    "subgrade_dummies = pd.get_dummies(df['sub_grade'],drop_first=True)"
   ]
  },
  {
   "cell_type": "code",
   "execution_count": 444,
   "id": "bbdc7d45",
   "metadata": {},
   "outputs": [],
   "source": [
    "df = pd.concat([df.drop('sub_grade',axis=1),subgrade_dummies],axis=1)"
   ]
  },
  {
   "cell_type": "code",
   "execution_count": 445,
   "id": "70364c24",
   "metadata": {},
   "outputs": [
    {
     "data": {
      "text/plain": [
       "Index(['loan_amnt', 'term', 'int_rate', 'installment', 'emp_length',\n",
       "       'home_ownership', 'annual_inc', 'verification_status', 'issue_d',\n",
       "       'purpose', 'dti', 'earliest_cr_line', 'open_acc', 'pub_rec',\n",
       "       'revol_bal', 'revol_util', 'total_acc', 'initial_list_status',\n",
       "       'application_type', 'mort_acc', 'pub_rec_bankruptcies', 'address',\n",
       "       'loan_repaid', 'A2', 'A3', 'A4', 'A5', 'B1', 'B2', 'B3', 'B4', 'B5',\n",
       "       'C1', 'C2', 'C3', 'C4', 'C5', 'D1', 'D2', 'D3', 'D4', 'D5', 'E1', 'E2',\n",
       "       'E3', 'E4', 'E5', 'F1', 'F2', 'F3', 'F4', 'F5', 'G1', 'G2', 'G3', 'G4',\n",
       "       'G5'],\n",
       "      dtype='object')"
      ]
     },
     "execution_count": 445,
     "metadata": {},
     "output_type": "execute_result"
    }
   ],
   "source": [
    "df.columns"
   ]
  },
  {
   "cell_type": "markdown",
   "id": "d40e4e5e",
   "metadata": {},
   "source": [
    "**home_ownership**"
   ]
  },
  {
   "cell_type": "code",
   "execution_count": 448,
   "id": "1ec97192",
   "metadata": {},
   "outputs": [
    {
     "data": {
      "text/plain": [
       "MORTGAGE    198022\n",
       "RENT        159395\n",
       "OWN          37660\n",
       "OTHER          110\n",
       "NONE            29\n",
       "ANY              3\n",
       "Name: home_ownership, dtype: int64"
      ]
     },
     "execution_count": 448,
     "metadata": {},
     "output_type": "execute_result"
    }
   ],
   "source": [
    "df.home_ownership.value_counts()"
   ]
  },
  {
   "cell_type": "code",
   "execution_count": 449,
   "id": "2265f99b",
   "metadata": {},
   "outputs": [],
   "source": [
    "#convert NONE , ANY to OTHER"
   ]
  },
  {
   "cell_type": "code",
   "execution_count": 450,
   "id": "3f39012f",
   "metadata": {},
   "outputs": [],
   "source": [
    "df['home_ownership']=df['home_ownership'].replace(['NONE', 'ANY'], 'OTHER')\n"
   ]
  },
  {
   "cell_type": "code",
   "execution_count": 451,
   "id": "89cd6018",
   "metadata": {},
   "outputs": [],
   "source": [
    "dummies = pd.get_dummies(df['home_ownership'],drop_first=True)"
   ]
  },
  {
   "cell_type": "code",
   "execution_count": 452,
   "id": "7b453ff8",
   "metadata": {},
   "outputs": [],
   "source": [
    "df = pd.concat([df.drop('home_ownership',axis=1),dummies],axis=1)"
   ]
  },
  {
   "cell_type": "code",
   "execution_count": 453,
   "id": "69cc3dbf",
   "metadata": {},
   "outputs": [
    {
     "data": {
      "text/plain": [
       "Index(['loan_amnt', 'term', 'int_rate', 'installment', 'emp_length',\n",
       "       'annual_inc', 'verification_status', 'issue_d', 'purpose', 'dti',\n",
       "       'earliest_cr_line', 'open_acc', 'pub_rec', 'revol_bal', 'revol_util',\n",
       "       'total_acc', 'initial_list_status', 'application_type', 'mort_acc',\n",
       "       'pub_rec_bankruptcies', 'address', 'loan_repaid', 'A2', 'A3', 'A4',\n",
       "       'A5', 'B1', 'B2', 'B3', 'B4', 'B5', 'C1', 'C2', 'C3', 'C4', 'C5', 'D1',\n",
       "       'D2', 'D3', 'D4', 'D5', 'E1', 'E2', 'E3', 'E4', 'E5', 'F1', 'F2', 'F3',\n",
       "       'F4', 'F5', 'G1', 'G2', 'G3', 'G4', 'G5', 'OTHER', 'OWN', 'RENT'],\n",
       "      dtype='object')"
      ]
     },
     "execution_count": 453,
     "metadata": {},
     "output_type": "execute_result"
    }
   ],
   "source": []
  },
  {
   "cell_type": "markdown",
   "id": "cb81c462",
   "metadata": {},
   "source": [
    "**verification_status, purpose, initial_list_status, application_type  **"
   ]
  },
  {
   "cell_type": "code",
   "execution_count": 454,
   "id": "ef8c383b",
   "metadata": {},
   "outputs": [
    {
     "data": {
      "text/plain": [
       "Verified           139451\n",
       "Source Verified    131301\n",
       "Not Verified       124467\n",
       "Name: verification_status, dtype: int64"
      ]
     },
     "execution_count": 454,
     "metadata": {},
     "output_type": "execute_result"
    }
   ],
   "source": [
    "df.verification_status.value_counts()"
   ]
  },
  {
   "cell_type": "code",
   "execution_count": 456,
   "id": "5d1ad4c3",
   "metadata": {},
   "outputs": [
    {
     "data": {
      "text/plain": [
       "debt_consolidation    234169\n",
       "credit_card            82923\n",
       "home_improvement       23961\n",
       "other                  21059\n",
       "major_purchase          8756\n",
       "small_business          5656\n",
       "car                     4670\n",
       "medical                 4175\n",
       "moving                  2842\n",
       "vacation                2442\n",
       "house                   2197\n",
       "wedding                 1794\n",
       "renewable_energy         329\n",
       "educational              246\n",
       "Name: purpose, dtype: int64"
      ]
     },
     "execution_count": 456,
     "metadata": {},
     "output_type": "execute_result"
    }
   ],
   "source": [
    "df.purpose.value_counts()"
   ]
  },
  {
   "cell_type": "code",
   "execution_count": 459,
   "id": "dbe10f66",
   "metadata": {},
   "outputs": [
    {
     "data": {
      "text/plain": [
       "f    237346\n",
       "w    157873\n",
       "Name: initial_list_status, dtype: int64"
      ]
     },
     "execution_count": 459,
     "metadata": {},
     "output_type": "execute_result"
    }
   ],
   "source": [
    "df.initial_list_status.value_counts()"
   ]
  },
  {
   "cell_type": "code",
   "execution_count": 460,
   "id": "a6ded66a",
   "metadata": {},
   "outputs": [
    {
     "data": {
      "text/plain": [
       "INDIVIDUAL    394508\n",
       "JOINT            425\n",
       "DIRECT_PAY       286\n",
       "Name: application_type, dtype: int64"
      ]
     },
     "execution_count": 460,
     "metadata": {},
     "output_type": "execute_result"
    }
   ],
   "source": [
    "df.application_type.value_counts()"
   ]
  },
  {
   "cell_type": "code",
   "execution_count": 462,
   "id": "9f48d5cd",
   "metadata": {},
   "outputs": [],
   "source": [
    "dummies_list = pd.get_dummies(df[['verification_status', 'application_type','initial_list_status','purpose' ]],drop_first=True)\n",
    "df = df.drop(['verification_status', 'application_type','initial_list_status','purpose'],axis=1)\n",
    "df = pd.concat([df,dummies_list],axis=1)"
   ]
  },
  {
   "cell_type": "code",
   "execution_count": 464,
   "id": "41740921",
   "metadata": {},
   "outputs": [
    {
     "data": {
      "text/plain": [
       "Index(['issue_d', 'earliest_cr_line', 'address'], dtype='object')"
      ]
     },
     "execution_count": 464,
     "metadata": {},
     "output_type": "execute_result"
    }
   ],
   "source": [
    "df.select_dtypes(['object']).columns"
   ]
  },
  {
   "cell_type": "markdown",
   "id": "1a1e572b",
   "metadata": {},
   "source": [
    "**issue_d**"
   ]
  },
  {
   "cell_type": "code",
   "execution_count": 465,
   "id": "2c76f99a",
   "metadata": {},
   "outputs": [],
   "source": [
    "#This would be data leakage\n",
    "df = df.drop('issue_d',axis=1)"
   ]
  },
  {
   "cell_type": "markdown",
   "id": "53eaf8a5",
   "metadata": {},
   "source": [
    "**earliest_cr_line**"
   ]
  },
  {
   "cell_type": "code",
   "execution_count": 466,
   "id": "1143575f",
   "metadata": {},
   "outputs": [
    {
     "data": {
      "text/plain": [
       "0         Jun-1990\n",
       "1         Jul-2004\n",
       "2         Aug-2007\n",
       "3         Sep-2006\n",
       "4         Mar-1999\n",
       "            ...   \n",
       "396025    Nov-2004\n",
       "396026    Feb-2006\n",
       "396027    Mar-1997\n",
       "396028    Nov-1990\n",
       "396029    Sep-1998\n",
       "Name: earliest_cr_line, Length: 395219, dtype: object"
      ]
     },
     "execution_count": 466,
     "metadata": {},
     "output_type": "execute_result"
    }
   ],
   "source": [
    "df.earliest_cr_line"
   ]
  },
  {
   "cell_type": "code",
   "execution_count": 467,
   "id": "3cc5cc4c",
   "metadata": {},
   "outputs": [],
   "source": [
    "df['earliest_cr_year'] = df['earliest_cr_line'].apply(lambda date:int(date[-4:]))\n",
    "df = df.drop('earliest_cr_line',axis=1)"
   ]
  },
  {
   "cell_type": "markdown",
   "id": "e19870c3",
   "metadata": {},
   "source": [
    "**address**"
   ]
  },
  {
   "cell_type": "code",
   "execution_count": 468,
   "id": "e984b2ba",
   "metadata": {},
   "outputs": [
    {
     "data": {
      "text/plain": [
       "0              0174 Michelle Gateway\\nMendozaberg, OK 22690\n",
       "1           1076 Carney Fort Apt. 347\\nLoganmouth, SD 05113\n",
       "2           87025 Mark Dale Apt. 269\\nNew Sabrina, WV 05113\n",
       "3                     823 Reid Ford\\nDelacruzside, MA 00813\n",
       "4                      679 Luna Roads\\nGreggshire, VA 11650\n",
       "                                ...                        \n",
       "396025       12951 Williams Crossing\\nJohnnyville, DC 30723\n",
       "396026    0114 Fowler Field Suite 028\\nRachelborough, LA...\n",
       "396027     953 Matthew Points Suite 414\\nReedfort, NY 70466\n",
       "396028    7843 Blake Freeway Apt. 229\\nNew Michael, FL 2...\n",
       "396029          787 Michelle Causeway\\nBriannaton, AR 48052\n",
       "Name: address, Length: 395219, dtype: object"
      ]
     },
     "execution_count": 468,
     "metadata": {},
     "output_type": "execute_result"
    }
   ],
   "source": [
    "df.address"
   ]
  },
  {
   "cell_type": "code",
   "execution_count": 470,
   "id": "c4541e28",
   "metadata": {},
   "outputs": [],
   "source": [
    "df['zip_code'] = df['address'].apply(lambda address:address[-5:])"
   ]
  },
  {
   "cell_type": "code",
   "execution_count": 471,
   "id": "c3be753a",
   "metadata": {},
   "outputs": [],
   "source": [
    "dummies_zip = pd.get_dummies(df['zip_code'],drop_first=True)\n",
    "df = df.drop(['zip_code','address'],axis=1)\n",
    "df = pd.concat([df,dummies_zip],axis=1)"
   ]
  },
  {
   "cell_type": "code",
   "execution_count": 474,
   "id": "cd1dd9d4",
   "metadata": {},
   "outputs": [
    {
     "name": "stdout",
     "output_type": "stream",
     "text": [
      "<class 'pandas.core.frame.DataFrame'>\n",
      "Int64Index: 395219 entries, 0 to 396029\n",
      "Data columns (total 80 columns):\n",
      " #   Column                               Non-Null Count   Dtype  \n",
      "---  ------                               --------------   -----  \n",
      " 0   loan_amnt                            395219 non-null  float64\n",
      " 1   term                                 395219 non-null  int64  \n",
      " 2   int_rate                             395219 non-null  float64\n",
      " 3   installment                          395219 non-null  float64\n",
      " 4   emp_length                           395219 non-null  float64\n",
      " 5   annual_inc                           395219 non-null  float64\n",
      " 6   dti                                  395219 non-null  float64\n",
      " 7   open_acc                             395219 non-null  float64\n",
      " 8   pub_rec                              395219 non-null  float64\n",
      " 9   revol_bal                            395219 non-null  float64\n",
      " 10  revol_util                           395219 non-null  float64\n",
      " 11  total_acc                            395219 non-null  float64\n",
      " 12  mort_acc                             395219 non-null  float64\n",
      " 13  pub_rec_bankruptcies                 395219 non-null  float64\n",
      " 14  loan_repaid                          395219 non-null  int64  \n",
      " 15  A2                                   395219 non-null  uint8  \n",
      " 16  A3                                   395219 non-null  uint8  \n",
      " 17  A4                                   395219 non-null  uint8  \n",
      " 18  A5                                   395219 non-null  uint8  \n",
      " 19  B1                                   395219 non-null  uint8  \n",
      " 20  B2                                   395219 non-null  uint8  \n",
      " 21  B3                                   395219 non-null  uint8  \n",
      " 22  B4                                   395219 non-null  uint8  \n",
      " 23  B5                                   395219 non-null  uint8  \n",
      " 24  C1                                   395219 non-null  uint8  \n",
      " 25  C2                                   395219 non-null  uint8  \n",
      " 26  C3                                   395219 non-null  uint8  \n",
      " 27  C4                                   395219 non-null  uint8  \n",
      " 28  C5                                   395219 non-null  uint8  \n",
      " 29  D1                                   395219 non-null  uint8  \n",
      " 30  D2                                   395219 non-null  uint8  \n",
      " 31  D3                                   395219 non-null  uint8  \n",
      " 32  D4                                   395219 non-null  uint8  \n",
      " 33  D5                                   395219 non-null  uint8  \n",
      " 34  E1                                   395219 non-null  uint8  \n",
      " 35  E2                                   395219 non-null  uint8  \n",
      " 36  E3                                   395219 non-null  uint8  \n",
      " 37  E4                                   395219 non-null  uint8  \n",
      " 38  E5                                   395219 non-null  uint8  \n",
      " 39  F1                                   395219 non-null  uint8  \n",
      " 40  F2                                   395219 non-null  uint8  \n",
      " 41  F3                                   395219 non-null  uint8  \n",
      " 42  F4                                   395219 non-null  uint8  \n",
      " 43  F5                                   395219 non-null  uint8  \n",
      " 44  G1                                   395219 non-null  uint8  \n",
      " 45  G2                                   395219 non-null  uint8  \n",
      " 46  G3                                   395219 non-null  uint8  \n",
      " 47  G4                                   395219 non-null  uint8  \n",
      " 48  G5                                   395219 non-null  uint8  \n",
      " 49  OTHER                                395219 non-null  uint8  \n",
      " 50  OWN                                  395219 non-null  uint8  \n",
      " 51  RENT                                 395219 non-null  uint8  \n",
      " 52  verification_status_Source Verified  395219 non-null  uint8  \n",
      " 53  verification_status_Verified         395219 non-null  uint8  \n",
      " 54  application_type_INDIVIDUAL          395219 non-null  uint8  \n",
      " 55  application_type_JOINT               395219 non-null  uint8  \n",
      " 56  initial_list_status_w                395219 non-null  uint8  \n",
      " 57  purpose_credit_card                  395219 non-null  uint8  \n",
      " 58  purpose_debt_consolidation           395219 non-null  uint8  \n",
      " 59  purpose_educational                  395219 non-null  uint8  \n",
      " 60  purpose_home_improvement             395219 non-null  uint8  \n",
      " 61  purpose_house                        395219 non-null  uint8  \n",
      " 62  purpose_major_purchase               395219 non-null  uint8  \n",
      " 63  purpose_medical                      395219 non-null  uint8  \n",
      " 64  purpose_moving                       395219 non-null  uint8  \n",
      " 65  purpose_other                        395219 non-null  uint8  \n",
      " 66  purpose_renewable_energy             395219 non-null  uint8  \n",
      " 67  purpose_small_business               395219 non-null  uint8  \n",
      " 68  purpose_vacation                     395219 non-null  uint8  \n",
      " 69  purpose_wedding                      395219 non-null  uint8  \n",
      " 70  earliest_cr_year                     395219 non-null  int64  \n",
      " 71  05113                                395219 non-null  uint8  \n",
      " 72  11650                                395219 non-null  uint8  \n",
      " 73  22690                                395219 non-null  uint8  \n",
      " 74  29597                                395219 non-null  uint8  \n",
      " 75  30723                                395219 non-null  uint8  \n",
      " 76  48052                                395219 non-null  uint8  \n",
      " 77  70466                                395219 non-null  uint8  \n",
      " 78  86630                                395219 non-null  uint8  \n",
      " 79  93700                                395219 non-null  uint8  \n",
      "dtypes: float64(13), int64(3), uint8(64)\n",
      "memory usage: 75.4 MB\n"
     ]
    }
   ],
   "source": [
    "df.info()"
   ]
  },
  {
   "cell_type": "code",
   "execution_count": 473,
   "id": "179b6b71",
   "metadata": {},
   "outputs": [
    {
     "data": {
      "text/plain": [
       "(395219, 80)"
      ]
     },
     "execution_count": 473,
     "metadata": {},
     "output_type": "execute_result"
    }
   ],
   "source": [
    "df.shape"
   ]
  },
  {
   "cell_type": "markdown",
   "id": "3ba6dab7",
   "metadata": {},
   "source": [
    "**Finally our data is clean!!**"
   ]
  },
  {
   "cell_type": "markdown",
   "id": "1a7f38dc",
   "metadata": {},
   "source": [
    "# Train Test Split"
   ]
  },
  {
   "cell_type": "code",
   "execution_count": 475,
   "id": "793d6749",
   "metadata": {},
   "outputs": [],
   "source": [
    "X = df.drop('loan_repaid',axis=1).values\n",
    "y = df['loan_repaid'].values"
   ]
  },
  {
   "cell_type": "code",
   "execution_count": 476,
   "id": "6788350e",
   "metadata": {},
   "outputs": [],
   "source": [
    "from sklearn.model_selection import train_test_split"
   ]
  },
  {
   "cell_type": "code",
   "execution_count": 477,
   "id": "75d35e45",
   "metadata": {},
   "outputs": [],
   "source": [
    "X_train, X_test, y_train, y_test = train_test_split(X, y, test_size=0.3, random_state=101)"
   ]
  },
  {
   "cell_type": "code",
   "execution_count": 617,
   "id": "a9eb6801",
   "metadata": {},
   "outputs": [
    {
     "data": {
      "text/plain": [
       "(276653, 79)"
      ]
     },
     "execution_count": 617,
     "metadata": {},
     "output_type": "execute_result"
    }
   ],
   "source": [
    "X_train.shape"
   ]
  },
  {
   "cell_type": "code",
   "execution_count": 618,
   "id": "493a5207",
   "metadata": {},
   "outputs": [
    {
     "data": {
      "text/plain": [
       "(118566, 79)"
      ]
     },
     "execution_count": 618,
     "metadata": {},
     "output_type": "execute_result"
    }
   ],
   "source": [
    "X_test.shape"
   ]
  },
  {
   "cell_type": "markdown",
   "id": "a83d0f50",
   "metadata": {},
   "source": [
    "**Normalize the feature data X_train and X_test**"
   ]
  },
  {
   "cell_type": "code",
   "execution_count": 619,
   "id": "b8eb308b",
   "metadata": {},
   "outputs": [],
   "source": [
    "from sklearn.preprocessing import MinMaxScaler"
   ]
  },
  {
   "cell_type": "code",
   "execution_count": 620,
   "id": "b3334dca",
   "metadata": {},
   "outputs": [],
   "source": [
    "scaler = MinMaxScaler()"
   ]
  },
  {
   "cell_type": "code",
   "execution_count": 621,
   "id": "67c05890",
   "metadata": {},
   "outputs": [],
   "source": [
    "X_train = scaler.fit_transform(X_train)"
   ]
  },
  {
   "cell_type": "code",
   "execution_count": 622,
   "id": "53a3ceab",
   "metadata": {},
   "outputs": [],
   "source": [
    "X_test = scaler.transform(X_test)"
   ]
  },
  {
   "cell_type": "code",
   "execution_count": 623,
   "id": "700e4f5c",
   "metadata": {},
   "outputs": [
    {
     "data": {
      "text/plain": [
       "array([[0.35384615, 0.        , 0.51305025, ..., 0.        , 0.        ,\n",
       "        0.        ],\n",
       "       [0.76923077, 1.        , 0.47721075, ..., 0.        , 0.        ,\n",
       "        0.        ],\n",
       "       [0.53846154, 1.        , 0.10011687, ..., 0.        , 0.        ,\n",
       "        0.        ],\n",
       "       ...,\n",
       "       [0.71025641, 1.        , 0.65562914, ..., 0.        , 0.        ,\n",
       "        0.        ],\n",
       "       [0.48717949, 1.        , 0.6996494 , ..., 0.        , 0.        ,\n",
       "        0.        ],\n",
       "       [0.37435897, 0.        , 0.61082976, ..., 1.        , 0.        ,\n",
       "        0.        ]])"
      ]
     },
     "execution_count": 623,
     "metadata": {},
     "output_type": "execute_result"
    }
   ],
   "source": [
    "X_test"
   ]
  },
  {
   "cell_type": "markdown",
   "id": "42f0f30b",
   "metadata": {},
   "source": [
    "# Creating the Model"
   ]
  },
  {
   "cell_type": "code",
   "execution_count": 484,
   "id": "15250f5a",
   "metadata": {},
   "outputs": [],
   "source": [
    "import tensorflow as tf\n",
    "from tensorflow.keras.models import Sequential\n",
    "from tensorflow.keras.layers import Dense, Activation,Dropout\n"
   ]
  },
  {
   "cell_type": "code",
   "execution_count": 528,
   "id": "e6398134",
   "metadata": {},
   "outputs": [
    {
     "data": {
      "text/plain": [
       "39.5"
      ]
     },
     "execution_count": 528,
     "metadata": {},
     "output_type": "execute_result"
    }
   ],
   "source": [
    "79/2"
   ]
  },
  {
   "cell_type": "markdown",
   "id": "1098a749",
   "metadata": {},
   "source": [
    "# Model"
   ]
  },
  {
   "cell_type": "code",
   "execution_count": 624,
   "id": "a67029fe",
   "metadata": {},
   "outputs": [],
   "source": [
    "#Simple NN\n",
    "model=Sequential()"
   ]
  },
  {
   "cell_type": "code",
   "execution_count": 625,
   "id": "ab3f4bef",
   "metadata": {},
   "outputs": [],
   "source": [
    "#input layer\n",
    "model.add(Dense(78, activation = 'relu') )\n",
    "\n",
    "#hidden layer\n",
    "model.add(Dense(39, activation = 'relu') )\n",
    "\n",
    "#output layer\n",
    "model.add(Dense(1, activation = 'sigmoid') )\n",
    "\n",
    "model.compile(loss='binary_crossentropy', optimizer='adam')"
   ]
  },
  {
   "cell_type": "code",
   "execution_count": 626,
   "id": "39450778",
   "metadata": {},
   "outputs": [
    {
     "name": "stdout",
     "output_type": "stream",
     "text": [
      "Epoch 1/100\n",
      "2162/2162 [==============================] - 4s 1ms/step - loss: 0.2799 - val_loss: 0.2693\n",
      "Epoch 2/100\n",
      "2162/2162 [==============================] - 3s 1ms/step - loss: 0.2622 - val_loss: 0.2648\n",
      "Epoch 3/100\n",
      "2162/2162 [==============================] - 3s 1ms/step - loss: 0.2606 - val_loss: 0.2629\n",
      "Epoch 4/100\n",
      "2162/2162 [==============================] - 3s 1ms/step - loss: 0.2590 - val_loss: 0.2617\n",
      "Epoch 5/100\n",
      "2162/2162 [==============================] - 3s 1ms/step - loss: 0.2581 - val_loss: 0.2633\n",
      "Epoch 6/100\n",
      "2162/2162 [==============================] - 3s 2ms/step - loss: 0.2575 - val_loss: 0.2611\n",
      "Epoch 7/100\n",
      "2162/2162 [==============================] - 3s 2ms/step - loss: 0.2569 - val_loss: 0.2627\n",
      "Epoch 8/100\n",
      "2162/2162 [==============================] - 3s 1ms/step - loss: 0.2566 - val_loss: 0.2630\n",
      "Epoch 9/100\n",
      "2162/2162 [==============================] - 3s 1ms/step - loss: 0.2560 - val_loss: 0.2651\n",
      "Epoch 10/100\n",
      "2162/2162 [==============================] - 3s 1ms/step - loss: 0.2555 - val_loss: 0.2613\n",
      "Epoch 11/100\n",
      "2162/2162 [==============================] - 3s 2ms/step - loss: 0.2550 - val_loss: 0.2617\n",
      "Epoch 12/100\n",
      "2162/2162 [==============================] - 3s 1ms/step - loss: 0.2546 - val_loss: 0.2613\n",
      "Epoch 13/100\n",
      "2162/2162 [==============================] - 3s 1ms/step - loss: 0.2542 - val_loss: 0.2611\n",
      "Epoch 14/100\n",
      "2162/2162 [==============================] - 3s 2ms/step - loss: 0.2537 - val_loss: 0.2623\n",
      "Epoch 15/100\n",
      "2162/2162 [==============================] - 3s 1ms/step - loss: 0.2533 - val_loss: 0.2625\n",
      "Epoch 16/100\n",
      "2162/2162 [==============================] - 3s 2ms/step - loss: 0.2526 - val_loss: 0.2622\n",
      "Epoch 17/100\n",
      "2162/2162 [==============================] - 3s 1ms/step - loss: 0.2522 - val_loss: 0.2618\n",
      "Epoch 18/100\n",
      "2162/2162 [==============================] - 3s 2ms/step - loss: 0.2518 - val_loss: 0.2631\n",
      "Epoch 19/100\n",
      "2162/2162 [==============================] - 4s 2ms/step - loss: 0.2515 - val_loss: 0.2650\n",
      "Epoch 20/100\n",
      "2162/2162 [==============================] - 3s 2ms/step - loss: 0.2510 - val_loss: 0.2637\n",
      "Epoch 21/100\n",
      "2162/2162 [==============================] - 4s 2ms/step - loss: 0.2506 - val_loss: 0.2638\n",
      "Epoch 22/100\n",
      "2162/2162 [==============================] - 3s 2ms/step - loss: 0.2501 - val_loss: 0.2634\n",
      "Epoch 23/100\n",
      "2162/2162 [==============================] - 3s 2ms/step - loss: 0.2498 - val_loss: 0.2632\n",
      "Epoch 24/100\n",
      "2162/2162 [==============================] - 5s 2ms/step - loss: 0.2493 - val_loss: 0.2646\n",
      "Epoch 25/100\n",
      "2162/2162 [==============================] - 4s 2ms/step - loss: 0.2488 - val_loss: 0.2638\n",
      "Epoch 26/100\n",
      "2162/2162 [==============================] - 4s 2ms/step - loss: 0.2484 - val_loss: 0.2651\n",
      "Epoch 27/100\n",
      "2162/2162 [==============================] - 5s 2ms/step - loss: 0.2479 - val_loss: 0.2651\n",
      "Epoch 28/100\n",
      "2162/2162 [==============================] - 6s 3ms/step - loss: 0.2476 - val_loss: 0.2649\n",
      "Epoch 29/100\n",
      "2162/2162 [==============================] - 6s 3ms/step - loss: 0.2473 - val_loss: 0.2657\n",
      "Epoch 30/100\n",
      "2162/2162 [==============================] - 4s 2ms/step - loss: 0.2469 - val_loss: 0.2646\n",
      "Epoch 31/100\n",
      "2162/2162 [==============================] - 3s 2ms/step - loss: 0.2467 - val_loss: 0.2657\n",
      "Epoch 32/100\n",
      "2162/2162 [==============================] - 4s 2ms/step - loss: 0.2461 - val_loss: 0.2661\n",
      "Epoch 33/100\n",
      "2162/2162 [==============================] - 3s 1ms/step - loss: 0.2457 - val_loss: 0.2681\n",
      "Epoch 34/100\n",
      "2162/2162 [==============================] - 3s 2ms/step - loss: 0.2455 - val_loss: 0.2662\n",
      "Epoch 35/100\n",
      "2162/2162 [==============================] - 5s 2ms/step - loss: 0.2450 - val_loss: 0.2664\n",
      "Epoch 36/100\n",
      "2162/2162 [==============================] - 4s 2ms/step - loss: 0.2449 - val_loss: 0.2691\n",
      "Epoch 37/100\n",
      "2162/2162 [==============================] - 4s 2ms/step - loss: 0.2444 - val_loss: 0.2686\n",
      "Epoch 38/100\n",
      "2162/2162 [==============================] - 3s 2ms/step - loss: 0.2441 - val_loss: 0.2694\n",
      "Epoch 39/100\n",
      "2162/2162 [==============================] - 3s 2ms/step - loss: 0.2439 - val_loss: 0.2703\n",
      "Epoch 40/100\n",
      "2162/2162 [==============================] - 3s 2ms/step - loss: 0.2436 - val_loss: 0.2692\n",
      "Epoch 41/100\n",
      "2162/2162 [==============================] - 4s 2ms/step - loss: 0.2435 - val_loss: 0.2696\n",
      "Epoch 42/100\n",
      "2162/2162 [==============================] - 4s 2ms/step - loss: 0.2431 - val_loss: 0.2699\n",
      "Epoch 43/100\n",
      "2162/2162 [==============================] - 4s 2ms/step - loss: 0.2428 - val_loss: 0.2711\n",
      "Epoch 44/100\n",
      "2162/2162 [==============================] - 3s 1ms/step - loss: 0.2424 - val_loss: 0.2715\n",
      "Epoch 45/100\n",
      "2162/2162 [==============================] - 4s 2ms/step - loss: 0.2422 - val_loss: 0.2732\n",
      "Epoch 46/100\n",
      "2162/2162 [==============================] - 3s 2ms/step - loss: 0.2421 - val_loss: 0.2725\n",
      "Epoch 47/100\n",
      "2162/2162 [==============================] - 4s 2ms/step - loss: 0.2417 - val_loss: 0.2739\n",
      "Epoch 48/100\n",
      "2162/2162 [==============================] - 3s 1ms/step - loss: 0.2413 - val_loss: 0.2721\n",
      "Epoch 49/100\n",
      "2162/2162 [==============================] - 3s 1ms/step - loss: 0.2412 - val_loss: 0.2731\n",
      "Epoch 50/100\n",
      "2162/2162 [==============================] - 4s 2ms/step - loss: 0.2410 - val_loss: 0.2717\n",
      "Epoch 51/100\n",
      "2162/2162 [==============================] - 3s 1ms/step - loss: 0.2407 - val_loss: 0.2737\n",
      "Epoch 52/100\n",
      "2162/2162 [==============================] - 3s 1ms/step - loss: 0.2405 - val_loss: 0.2750\n",
      "Epoch 53/100\n",
      "2162/2162 [==============================] - 3s 1ms/step - loss: 0.2402 - val_loss: 0.2757\n",
      "Epoch 54/100\n",
      "2162/2162 [==============================] - 3s 1ms/step - loss: 0.2401 - val_loss: 0.2742\n",
      "Epoch 55/100\n",
      "2162/2162 [==============================] - 3s 2ms/step - loss: 0.2400 - val_loss: 0.2749\n",
      "Epoch 56/100\n",
      "2162/2162 [==============================] - 3s 1ms/step - loss: 0.2396 - val_loss: 0.2750\n",
      "Epoch 57/100\n",
      "2162/2162 [==============================] - 3s 1ms/step - loss: 0.2396 - val_loss: 0.2748\n",
      "Epoch 58/100\n",
      "2162/2162 [==============================] - 3s 1ms/step - loss: 0.2393 - val_loss: 0.2765\n",
      "Epoch 59/100\n",
      "2162/2162 [==============================] - 3s 1ms/step - loss: 0.2391 - val_loss: 0.2768\n",
      "Epoch 60/100\n",
      "2162/2162 [==============================] - 3s 1ms/step - loss: 0.2389 - val_loss: 0.2758\n",
      "Epoch 61/100\n",
      "2162/2162 [==============================] - 3s 1ms/step - loss: 0.2386 - val_loss: 0.2784\n",
      "Epoch 62/100\n",
      "2162/2162 [==============================] - 3s 1ms/step - loss: 0.2385 - val_loss: 0.2791\n",
      "Epoch 63/100\n",
      "2162/2162 [==============================] - 3s 1ms/step - loss: 0.2383 - val_loss: 0.2788\n",
      "Epoch 64/100\n",
      "2162/2162 [==============================] - 3s 1ms/step - loss: 0.2383 - val_loss: 0.2758\n",
      "Epoch 65/100\n",
      "2162/2162 [==============================] - 3s 1ms/step - loss: 0.2380 - val_loss: 0.2803\n",
      "Epoch 66/100\n",
      "2162/2162 [==============================] - 3s 1ms/step - loss: 0.2379 - val_loss: 0.2810\n",
      "Epoch 67/100\n",
      "2162/2162 [==============================] - 3s 1ms/step - loss: 0.2376 - val_loss: 0.2783\n",
      "Epoch 68/100\n",
      "2162/2162 [==============================] - 3s 1ms/step - loss: 0.2375 - val_loss: 0.2798\n",
      "Epoch 69/100\n",
      "2162/2162 [==============================] - 3s 1ms/step - loss: 0.2373 - val_loss: 0.2819\n",
      "Epoch 70/100\n",
      "2162/2162 [==============================] - 3s 1ms/step - loss: 0.2371 - val_loss: 0.2787\n",
      "Epoch 71/100\n",
      "2162/2162 [==============================] - 3s 1ms/step - loss: 0.2373 - val_loss: 0.2789\n",
      "Epoch 72/100\n",
      "2162/2162 [==============================] - 3s 1ms/step - loss: 0.2369 - val_loss: 0.2817\n",
      "Epoch 73/100\n",
      "2162/2162 [==============================] - 3s 2ms/step - loss: 0.2367 - val_loss: 0.2809\n",
      "Epoch 74/100\n",
      "2162/2162 [==============================] - 3s 2ms/step - loss: 0.2365 - val_loss: 0.2835\n",
      "Epoch 75/100\n",
      "2162/2162 [==============================] - 3s 1ms/step - loss: 0.2365 - val_loss: 0.2835\n",
      "Epoch 76/100\n",
      "2162/2162 [==============================] - 3s 1ms/step - loss: 0.2364 - val_loss: 0.2819\n",
      "Epoch 77/100\n",
      "2162/2162 [==============================] - 3s 1ms/step - loss: 0.2362 - val_loss: 0.2836\n",
      "Epoch 78/100\n",
      "2162/2162 [==============================] - 3s 1ms/step - loss: 0.2361 - val_loss: 0.2824\n",
      "Epoch 79/100\n",
      "2162/2162 [==============================] - 3s 1ms/step - loss: 0.2359 - val_loss: 0.2835\n"
     ]
    },
    {
     "name": "stdout",
     "output_type": "stream",
     "text": [
      "Epoch 80/100\n",
      "2162/2162 [==============================] - 3s 1ms/step - loss: 0.2357 - val_loss: 0.2830\n",
      "Epoch 81/100\n",
      "2162/2162 [==============================] - 3s 1ms/step - loss: 0.2356 - val_loss: 0.2834\n",
      "Epoch 82/100\n",
      "2162/2162 [==============================] - 3s 1ms/step - loss: 0.2356 - val_loss: 0.2832\n",
      "Epoch 83/100\n",
      "2162/2162 [==============================] - 3s 2ms/step - loss: 0.2353 - val_loss: 0.2837\n",
      "Epoch 84/100\n",
      "2162/2162 [==============================] - 4s 2ms/step - loss: 0.2353 - val_loss: 0.2840\n",
      "Epoch 85/100\n",
      "2162/2162 [==============================] - 3s 1ms/step - loss: 0.2351 - val_loss: 0.2860\n",
      "Epoch 86/100\n",
      "2162/2162 [==============================] - 3s 1ms/step - loss: 0.2349 - val_loss: 0.2851\n",
      "Epoch 87/100\n",
      "2162/2162 [==============================] - 3s 1ms/step - loss: 0.2348 - val_loss: 0.2858\n",
      "Epoch 88/100\n",
      "2162/2162 [==============================] - 3s 1ms/step - loss: 0.2347 - val_loss: 0.2896\n",
      "Epoch 89/100\n",
      "2162/2162 [==============================] - 3s 1ms/step - loss: 0.2346 - val_loss: 0.2863\n",
      "Epoch 90/100\n",
      "2162/2162 [==============================] - 3s 2ms/step - loss: 0.2343 - val_loss: 0.2867\n",
      "Epoch 91/100\n",
      "2162/2162 [==============================] - 3s 1ms/step - loss: 0.2342 - val_loss: 0.2845\n",
      "Epoch 92/100\n",
      "2162/2162 [==============================] - 3s 1ms/step - loss: 0.2341 - val_loss: 0.2864\n",
      "Epoch 93/100\n",
      "2162/2162 [==============================] - 3s 1ms/step - loss: 0.2342 - val_loss: 0.2906\n",
      "Epoch 94/100\n",
      "2162/2162 [==============================] - 3s 1ms/step - loss: 0.2339 - val_loss: 0.2877\n",
      "Epoch 95/100\n",
      "2162/2162 [==============================] - 3s 1ms/step - loss: 0.2338 - val_loss: 0.2886\n",
      "Epoch 96/100\n",
      "2162/2162 [==============================] - 3s 1ms/step - loss: 0.2339 - val_loss: 0.2868\n",
      "Epoch 97/100\n",
      "2162/2162 [==============================] - 3s 1ms/step - loss: 0.2336 - val_loss: 0.2868\n",
      "Epoch 98/100\n",
      "2162/2162 [==============================] - 3s 1ms/step - loss: 0.2336 - val_loss: 0.2884\n",
      "Epoch 99/100\n",
      "2162/2162 [==============================] - 3s 1ms/step - loss: 0.2335 - val_loss: 0.2885\n",
      "Epoch 100/100\n",
      "2162/2162 [==============================] - 3s 1ms/step - loss: 0.2334 - val_loss: 0.2889\n"
     ]
    },
    {
     "data": {
      "text/plain": [
       "<keras.callbacks.History at 0x28bf4537ac0>"
      ]
     },
     "execution_count": 626,
     "metadata": {},
     "output_type": "execute_result"
    }
   ],
   "source": [
    "model.fit(x=X_train,\n",
    "          y=y_train,\n",
    "         epochs=100,\n",
    "         batch_size=128,\n",
    "        validation_data=(X_test, y_test),)"
   ]
  },
  {
   "cell_type": "code",
   "execution_count": 627,
   "id": "d3f260fc",
   "metadata": {},
   "outputs": [],
   "source": [
    "losses=pd.DataFrame(model.history.history)"
   ]
  },
  {
   "cell_type": "code",
   "execution_count": 628,
   "id": "30326bee",
   "metadata": {},
   "outputs": [
    {
     "data": {
      "text/html": [
       "<div>\n",
       "<style scoped>\n",
       "    .dataframe tbody tr th:only-of-type {\n",
       "        vertical-align: middle;\n",
       "    }\n",
       "\n",
       "    .dataframe tbody tr th {\n",
       "        vertical-align: top;\n",
       "    }\n",
       "\n",
       "    .dataframe thead th {\n",
       "        text-align: right;\n",
       "    }\n",
       "</style>\n",
       "<table border=\"1\" class=\"dataframe\">\n",
       "  <thead>\n",
       "    <tr style=\"text-align: right;\">\n",
       "      <th></th>\n",
       "      <th>loss</th>\n",
       "      <th>val_loss</th>\n",
       "    </tr>\n",
       "  </thead>\n",
       "  <tbody>\n",
       "    <tr>\n",
       "      <th>0</th>\n",
       "      <td>0.279947</td>\n",
       "      <td>0.269331</td>\n",
       "    </tr>\n",
       "    <tr>\n",
       "      <th>1</th>\n",
       "      <td>0.262249</td>\n",
       "      <td>0.264754</td>\n",
       "    </tr>\n",
       "    <tr>\n",
       "      <th>2</th>\n",
       "      <td>0.260575</td>\n",
       "      <td>0.262874</td>\n",
       "    </tr>\n",
       "    <tr>\n",
       "      <th>3</th>\n",
       "      <td>0.258990</td>\n",
       "      <td>0.261676</td>\n",
       "    </tr>\n",
       "    <tr>\n",
       "      <th>4</th>\n",
       "      <td>0.258065</td>\n",
       "      <td>0.263346</td>\n",
       "    </tr>\n",
       "    <tr>\n",
       "      <th>...</th>\n",
       "      <td>...</td>\n",
       "      <td>...</td>\n",
       "    </tr>\n",
       "    <tr>\n",
       "      <th>95</th>\n",
       "      <td>0.233879</td>\n",
       "      <td>0.286784</td>\n",
       "    </tr>\n",
       "    <tr>\n",
       "      <th>96</th>\n",
       "      <td>0.233594</td>\n",
       "      <td>0.286811</td>\n",
       "    </tr>\n",
       "    <tr>\n",
       "      <th>97</th>\n",
       "      <td>0.233638</td>\n",
       "      <td>0.288428</td>\n",
       "    </tr>\n",
       "    <tr>\n",
       "      <th>98</th>\n",
       "      <td>0.233469</td>\n",
       "      <td>0.288510</td>\n",
       "    </tr>\n",
       "    <tr>\n",
       "      <th>99</th>\n",
       "      <td>0.233382</td>\n",
       "      <td>0.288866</td>\n",
       "    </tr>\n",
       "  </tbody>\n",
       "</table>\n",
       "<p>100 rows × 2 columns</p>\n",
       "</div>"
      ],
      "text/plain": [
       "        loss  val_loss\n",
       "0   0.279947  0.269331\n",
       "1   0.262249  0.264754\n",
       "2   0.260575  0.262874\n",
       "3   0.258990  0.261676\n",
       "4   0.258065  0.263346\n",
       "..       ...       ...\n",
       "95  0.233879  0.286784\n",
       "96  0.233594  0.286811\n",
       "97  0.233638  0.288428\n",
       "98  0.233469  0.288510\n",
       "99  0.233382  0.288866\n",
       "\n",
       "[100 rows x 2 columns]"
      ]
     },
     "execution_count": 628,
     "metadata": {},
     "output_type": "execute_result"
    }
   ],
   "source": [
    "losses"
   ]
  },
  {
   "cell_type": "code",
   "execution_count": 629,
   "id": "05f1d231",
   "metadata": {},
   "outputs": [
    {
     "data": {
      "text/plain": [
       "<AxesSubplot:>"
      ]
     },
     "execution_count": 629,
     "metadata": {},
     "output_type": "execute_result"
    },
    {
     "data": {
      "image/png": "[encoded data removed]",
      "text/plain": [
       "<Figure size 432x288 with 1 Axes>"
      ]
     },
     "metadata": {},
     "output_type": "display_data"
    }
   ],
   "source": [
    "losses[['loss','val_loss']].plot()"
   ]
  },
  {
   "cell_type": "code",
   "execution_count": 633,
   "id": "c43cd090",
   "metadata": {},
   "outputs": [],
   "source": [
    "from sklearn.metrics import classification_report,confusion_matrix"
   ]
  },
  {
   "cell_type": "code",
   "execution_count": 634,
   "id": "f0c76942",
   "metadata": {},
   "outputs": [
    {
     "name": "stdout",
     "output_type": "stream",
     "text": [
      "3706/3706 [==============================] - 3s 683us/step\n"
     ]
    }
   ],
   "source": [
    "predictions = model.predict (X_test)"
   ]
  },
  {
   "cell_type": "code",
   "execution_count": 635,
   "id": "21bb5431",
   "metadata": {},
   "outputs": [
    {
     "data": {
      "text/plain": [
       "array([[1.],\n",
       "       [1.],\n",
       "       [1.],\n",
       "       ...,\n",
       "       [0.],\n",
       "       [1.],\n",
       "       [1.]], dtype=float32)"
      ]
     },
     "execution_count": 635,
     "metadata": {},
     "output_type": "execute_result"
    }
   ],
   "source": [
    "predictions.round()"
   ]
  },
  {
   "cell_type": "code",
   "execution_count": 636,
   "id": "b05ef573",
   "metadata": {},
   "outputs": [
    {
     "name": "stdout",
     "output_type": "stream",
     "text": [
      "              precision    recall  f1-score   support\n",
      "\n",
      "           0       0.84      0.49      0.62     23363\n",
      "           1       0.89      0.98      0.93     95203\n",
      "\n",
      "    accuracy                           0.88    118566\n",
      "   macro avg       0.87      0.73      0.77    118566\n",
      "weighted avg       0.88      0.88      0.87    118566\n",
      "\n"
     ]
    }
   ],
   "source": [
    "print(classification_report(y_test,predictions.round()))"
   ]
  },
  {
   "cell_type": "code",
   "execution_count": 637,
   "id": "fa256aef",
   "metadata": {},
   "outputs": [
    {
     "name": "stdout",
     "output_type": "stream",
     "text": [
      "[[11438 11925]\n",
      " [ 2099 93104]]\n"
     ]
    }
   ],
   "source": [
    "print (confusion_matrix(y_test,predictions.round()))"
   ]
  },
  {
   "cell_type": "code",
   "execution_count": 563,
   "id": "b848e223",
   "metadata": {},
   "outputs": [],
   "source": [
    "#Revamping"
   ]
  },
  {
   "cell_type": "code",
   "execution_count": 638,
   "id": "7927497c",
   "metadata": {},
   "outputs": [],
   "source": [
    "model_1=Sequential()"
   ]
  },
  {
   "cell_type": "code",
   "execution_count": 639,
   "id": "a0b48661",
   "metadata": {},
   "outputs": [],
   "source": [
    "#input layer\n",
    "model_1.add(Dense(78, activation = 'relu') )\n",
    "\n",
    "#hidden layer\n",
    "model_1.add(Dense(39, activation = 'relu') )\n",
    "\n",
    "#output layer\n",
    "model_1.add(Dense(1, activation = 'sigmoid') )\n",
    "\n",
    "model_1.compile(loss='binary_crossentropy', optimizer='adam')"
   ]
  },
  {
   "cell_type": "code",
   "execution_count": 640,
   "id": "c9008833",
   "metadata": {},
   "outputs": [
    {
     "name": "stdout",
     "output_type": "stream",
     "text": [
      "Epoch 1/25\n",
      "2162/2162 [==============================] - 4s 1ms/step - loss: 0.2774 - val_loss: 0.2644\n",
      "Epoch 2/25\n",
      "2162/2162 [==============================] - 3s 1ms/step - loss: 0.2624 - val_loss: 0.2635\n",
      "Epoch 3/25\n",
      "2162/2162 [==============================] - 3s 1ms/step - loss: 0.2605 - val_loss: 0.2627\n",
      "Epoch 4/25\n",
      "2162/2162 [==============================] - 3s 1ms/step - loss: 0.2590 - val_loss: 0.2627\n",
      "Epoch 5/25\n",
      "2162/2162 [==============================] - 3s 1ms/step - loss: 0.2578 - val_loss: 0.2627\n",
      "Epoch 6/25\n",
      "2162/2162 [==============================] - 3s 1ms/step - loss: 0.2573 - val_loss: 0.2618\n",
      "Epoch 7/25\n",
      "2162/2162 [==============================] - 3s 1ms/step - loss: 0.2567 - val_loss: 0.2616\n",
      "Epoch 8/25\n",
      "2162/2162 [==============================] - 3s 1ms/step - loss: 0.2560 - val_loss: 0.2636\n",
      "Epoch 9/25\n",
      "2162/2162 [==============================] - 3s 1ms/step - loss: 0.2556 - val_loss: 0.2613\n",
      "Epoch 10/25\n",
      "2162/2162 [==============================] - 3s 1ms/step - loss: 0.2551 - val_loss: 0.2626\n",
      "Epoch 11/25\n",
      "2162/2162 [==============================] - 3s 1ms/step - loss: 0.2548 - val_loss: 0.2628\n",
      "Epoch 12/25\n",
      "2162/2162 [==============================] - 3s 1ms/step - loss: 0.2542 - val_loss: 0.2627\n",
      "Epoch 13/25\n",
      "2162/2162 [==============================] - 3s 1ms/step - loss: 0.2538 - val_loss: 0.2622\n",
      "Epoch 14/25\n",
      "2162/2162 [==============================] - 3s 1ms/step - loss: 0.2535 - val_loss: 0.2623\n",
      "Epoch 15/25\n",
      "2162/2162 [==============================] - 3s 1ms/step - loss: 0.2530 - val_loss: 0.2626\n",
      "Epoch 16/25\n",
      "2162/2162 [==============================] - 3s 1ms/step - loss: 0.2527 - val_loss: 0.2628\n",
      "Epoch 17/25\n",
      "2162/2162 [==============================] - 3s 1ms/step - loss: 0.2522 - val_loss: 0.2627\n",
      "Epoch 18/25\n",
      "2162/2162 [==============================] - 3s 1ms/step - loss: 0.2520 - val_loss: 0.2631\n",
      "Epoch 19/25\n",
      "2162/2162 [==============================] - 3s 1ms/step - loss: 0.2516 - val_loss: 0.2633\n",
      "Epoch 20/25\n",
      "2162/2162 [==============================] - 3s 1ms/step - loss: 0.2511 - val_loss: 0.2626\n",
      "Epoch 21/25\n",
      "2162/2162 [==============================] - 3s 1ms/step - loss: 0.2508 - val_loss: 0.2635\n",
      "Epoch 22/25\n",
      "2162/2162 [==============================] - 3s 1ms/step - loss: 0.2504 - val_loss: 0.2642\n",
      "Epoch 23/25\n",
      "2162/2162 [==============================] - 3s 1ms/step - loss: 0.2499 - val_loss: 0.2658\n",
      "Epoch 24/25\n",
      "2162/2162 [==============================] - 3s 1ms/step - loss: 0.2497 - val_loss: 0.2644\n",
      "Epoch 25/25\n",
      "2162/2162 [==============================] - 3s 1ms/step - loss: 0.2493 - val_loss: 0.2640\n"
     ]
    },
    {
     "data": {
      "text/plain": [
       "<keras.callbacks.History at 0x28bf4805b50>"
      ]
     },
     "execution_count": 640,
     "metadata": {},
     "output_type": "execute_result"
    }
   ],
   "source": [
    "model_1.fit(x=X_train,\n",
    "          y=y_train,\n",
    "         epochs=25,\n",
    "         batch_size=128,\n",
    "        validation_data=(X_test, y_test),)"
   ]
  },
  {
   "cell_type": "code",
   "execution_count": 641,
   "id": "a275070d",
   "metadata": {},
   "outputs": [
    {
     "name": "stdout",
     "output_type": "stream",
     "text": [
      "3706/3706 [==============================] - 3s 730us/step\n"
     ]
    }
   ],
   "source": [
    "predictions_1 = model_1.predict (X_test)"
   ]
  },
  {
   "cell_type": "code",
   "execution_count": 642,
   "id": "9624627b",
   "metadata": {},
   "outputs": [
    {
     "name": "stdout",
     "output_type": "stream",
     "text": [
      "              precision    recall  f1-score   support\n",
      "\n",
      "           0       0.88      0.49      0.63     23363\n",
      "           1       0.89      0.98      0.93     95203\n",
      "\n",
      "    accuracy                           0.89    118566\n",
      "   macro avg       0.88      0.73      0.78    118566\n",
      "weighted avg       0.89      0.89      0.87    118566\n",
      "\n"
     ]
    }
   ],
   "source": [
    "print(classification_report(y_test,predictions_1.round()))"
   ]
  },
  {
   "cell_type": "code",
   "execution_count": 643,
   "id": "232988a6",
   "metadata": {},
   "outputs": [
    {
     "name": "stdout",
     "output_type": "stream",
     "text": [
      "[[11438 11925]\n",
      " [ 2099 93104]]\n"
     ]
    }
   ],
   "source": [
    "print (confusion_matrix(y_test,predictions.round()))"
   ]
  },
  {
   "cell_type": "code",
   "execution_count": null,
   "id": "ee5135c5",
   "metadata": {},
   "outputs": [],
   "source": []
  },
  {
   "cell_type": "code",
   "execution_count": null,
   "id": "b705f0c5",
   "metadata": {},
   "outputs": [],
   "source": []
  },
  {
   "cell_type": "code",
   "execution_count": null,
   "id": "cf174d63",
   "metadata": {},
   "outputs": [],
   "source": []
  },
  {
   "cell_type": "code",
   "execution_count": null,
   "id": "a777dc10",
   "metadata": {},
   "outputs": [],
   "source": []
  },
  {
   "cell_type": "code",
   "execution_count": null,
   "id": "0e44d114",
   "metadata": {},
   "outputs": [],
   "source": []
  },
  {
   "cell_type": "markdown",
   "id": "084b958b",
   "metadata": {},
   "source": [
    "# Model 2"
   ]
  },
  {
   "cell_type": "code",
   "execution_count": 644,
   "id": "771d9654",
   "metadata": {},
   "outputs": [],
   "source": [
    "model_2=Sequential()\n",
    "\n",
    "#input layer\n",
    "model_2.add(Dense(78, activation = 'relu') )\n",
    "model_2.add(Dropout(0.2))\n",
    "\n",
    "#hidden layer\n",
    "model_2.add(Dense(39, activation = 'relu') )\n",
    "\n",
    "#output layer\n",
    "model_2.add(Dense(1, activation = 'sigmoid') )\n",
    "\n",
    "model_2.compile(loss='binary_crossentropy', optimizer='adam')"
   ]
  },
  {
   "cell_type": "code",
   "execution_count": 645,
   "id": "f101139d",
   "metadata": {},
   "outputs": [
    {
     "name": "stdout",
     "output_type": "stream",
     "text": [
      "Epoch 1/25\n",
      "4323/4323 [==============================] - 7s 1ms/step - loss: 0.2771 - val_loss: 0.2638\n",
      "Epoch 2/25\n",
      "4323/4323 [==============================] - 6s 1ms/step - loss: 0.2614 - val_loss: 0.2624\n",
      "Epoch 3/25\n",
      "4323/4323 [==============================] - 6s 1ms/step - loss: 0.2599 - val_loss: 0.2617\n",
      "Epoch 4/25\n",
      "4323/4323 [==============================] - 7s 2ms/step - loss: 0.2593 - val_loss: 0.2614\n",
      "Epoch 5/25\n",
      "4323/4323 [==============================] - 6s 1ms/step - loss: 0.2587 - val_loss: 0.2614\n",
      "Epoch 6/25\n",
      "4323/4323 [==============================] - 7s 2ms/step - loss: 0.2584 - val_loss: 0.2615\n",
      "Epoch 7/25\n",
      "4323/4323 [==============================] - 6s 1ms/step - loss: 0.2580 - val_loss: 0.2613\n",
      "Epoch 8/25\n",
      "4323/4323 [==============================] - 6s 1ms/step - loss: 0.2577 - val_loss: 0.2616\n",
      "Epoch 9/25\n",
      "4323/4323 [==============================] - 6s 1ms/step - loss: 0.2574 - val_loss: 0.2611\n",
      "Epoch 10/25\n",
      "4323/4323 [==============================] - 6s 1ms/step - loss: 0.2570 - val_loss: 0.2609\n",
      "Epoch 11/25\n",
      "4323/4323 [==============================] - 7s 2ms/step - loss: 0.2568 - val_loss: 0.2610\n",
      "Epoch 12/25\n",
      "4323/4323 [==============================] - 7s 2ms/step - loss: 0.2566 - val_loss: 0.2616\n",
      "Epoch 13/25\n",
      "4323/4323 [==============================] - 6s 2ms/step - loss: 0.2564 - val_loss: 0.2611\n",
      "Epoch 14/25\n",
      "4323/4323 [==============================] - 7s 2ms/step - loss: 0.2561 - val_loss: 0.2620\n",
      "Epoch 15/25\n",
      "4323/4323 [==============================] - 7s 2ms/step - loss: 0.2559 - val_loss: 0.2612\n",
      "Epoch 16/25\n",
      "4323/4323 [==============================] - 6s 1ms/step - loss: 0.2559 - val_loss: 0.2611\n",
      "Epoch 17/25\n",
      "4323/4323 [==============================] - 7s 2ms/step - loss: 0.2555 - val_loss: 0.2611\n",
      "Epoch 18/25\n",
      "4323/4323 [==============================] - 6s 1ms/step - loss: 0.2552 - val_loss: 0.2607\n",
      "Epoch 19/25\n",
      "4323/4323 [==============================] - 6s 1ms/step - loss: 0.2551 - val_loss: 0.2614\n",
      "Epoch 20/25\n",
      "4323/4323 [==============================] - 6s 1ms/step - loss: 0.2550 - val_loss: 0.2614\n",
      "Epoch 21/25\n",
      "4323/4323 [==============================] - 6s 1ms/step - loss: 0.2546 - val_loss: 0.2613\n",
      "Epoch 22/25\n",
      "4323/4323 [==============================] - 6s 1ms/step - loss: 0.2545 - val_loss: 0.2612\n",
      "Epoch 23/25\n",
      "4323/4323 [==============================] - 7s 2ms/step - loss: 0.2544 - val_loss: 0.2613\n",
      "Epoch 24/25\n",
      "4323/4323 [==============================] - 7s 2ms/step - loss: 0.2541 - val_loss: 0.2618\n",
      "Epoch 25/25\n",
      "4323/4323 [==============================] - 7s 2ms/step - loss: 0.2540 - val_loss: 0.2615\n"
     ]
    },
    {
     "data": {
      "text/plain": [
       "<keras.callbacks.History at 0x28bf4c57b80>"
      ]
     },
     "execution_count": 645,
     "metadata": {},
     "output_type": "execute_result"
    }
   ],
   "source": [
    "model_2.fit(x=X_train,\n",
    "          y=y_train,\n",
    "         epochs=25,\n",
    "         batch_size=64,\n",
    "        validation_data=(X_test, y_test),)"
   ]
  },
  {
   "cell_type": "code",
   "execution_count": 646,
   "id": "07c1913b",
   "metadata": {},
   "outputs": [],
   "source": [
    "losses=pd.DataFrame(model_2.history.history)"
   ]
  },
  {
   "cell_type": "code",
   "execution_count": 647,
   "id": "6203000a",
   "metadata": {},
   "outputs": [
    {
     "data": {
      "text/plain": [
       "<AxesSubplot:>"
      ]
     },
     "execution_count": 647,
     "metadata": {},
     "output_type": "execute_result"
    },
    {
     "data": {
      "image/png": "[encoded data removed]",
      "text/plain": [
       "<Figure size 432x288 with 1 Axes>"
      ]
     },
     "metadata": {},
     "output_type": "display_data"
    }
   ],
   "source": [
    "losses[['loss','val_loss']].plot()"
   ]
  },
  {
   "cell_type": "code",
   "execution_count": 648,
   "id": "482a6da7",
   "metadata": {},
   "outputs": [
    {
     "name": "stdout",
     "output_type": "stream",
     "text": [
      "3706/3706 [==============================] - 5s 1ms/step\n"
     ]
    }
   ],
   "source": [
    "predictions_2 = model_2.predict (X_test)"
   ]
  },
  {
   "cell_type": "code",
   "execution_count": 649,
   "id": "d502f7c3",
   "metadata": {},
   "outputs": [
    {
     "name": "stdout",
     "output_type": "stream",
     "text": [
      "              precision    recall  f1-score   support\n",
      "\n",
      "           0       0.94      0.46      0.62     23363\n",
      "           1       0.88      0.99      0.93     95203\n",
      "\n",
      "    accuracy                           0.89    118566\n",
      "   macro avg       0.91      0.72      0.77    118566\n",
      "weighted avg       0.89      0.89      0.87    118566\n",
      "\n",
      "[[10659 12704]\n",
      " [  631 94572]]\n"
     ]
    }
   ],
   "source": [
    "print(classification_report(y_test,predictions_2.round()))\n",
    "print (confusion_matrix(y_test,predictions_2.round()))"
   ]
  },
  {
   "cell_type": "markdown",
   "id": "6a393b70",
   "metadata": {},
   "source": [
    "# Model 3"
   ]
  },
  {
   "cell_type": "code",
   "execution_count": 650,
   "id": "ed3ea580",
   "metadata": {},
   "outputs": [],
   "source": [
    "model_3=Sequential()\n",
    "\n",
    "#input layer\n",
    "model_3.add(Dense(78, activation = 'relu') )\n",
    "model_3.add(Dropout(0.2))\n",
    "\n",
    "#hidden layer\n",
    "model_3.add(Dense(39, activation = 'relu') )\n",
    "model_3.add(Dropout(0.2))\n",
    "\n",
    "#output layer\n",
    "model_3.add(Dense(1, activation = 'sigmoid') )\n",
    "\n",
    "model_3.compile(loss='binary_crossentropy', optimizer='adam')"
   ]
  },
  {
   "cell_type": "code",
   "execution_count": 651,
   "id": "42bbdd31",
   "metadata": {},
   "outputs": [
    {
     "name": "stdout",
     "output_type": "stream",
     "text": [
      "Epoch 1/25\n",
      "4323/4323 [==============================] - 8s 2ms/step - loss: 0.2795 - val_loss: 0.2633\n",
      "Epoch 2/25\n",
      "4323/4323 [==============================] - 7s 2ms/step - loss: 0.2623 - val_loss: 0.2625\n",
      "Epoch 3/25\n",
      "4323/4323 [==============================] - 7s 2ms/step - loss: 0.2606 - val_loss: 0.2619\n",
      "Epoch 4/25\n",
      "4323/4323 [==============================] - 7s 2ms/step - loss: 0.2599 - val_loss: 0.2615\n",
      "Epoch 5/25\n",
      "4323/4323 [==============================] - 7s 2ms/step - loss: 0.2591 - val_loss: 0.2613\n",
      "Epoch 6/25\n",
      "4323/4323 [==============================] - 7s 2ms/step - loss: 0.2589 - val_loss: 0.2617\n",
      "Epoch 7/25\n",
      "4323/4323 [==============================] - 7s 2ms/step - loss: 0.2584 - val_loss: 0.2614\n",
      "Epoch 8/25\n",
      "4323/4323 [==============================] - 7s 2ms/step - loss: 0.2582 - val_loss: 0.2613\n",
      "Epoch 9/25\n",
      "4323/4323 [==============================] - 7s 2ms/step - loss: 0.2578 - val_loss: 0.2610\n",
      "Epoch 10/25\n",
      "4323/4323 [==============================] - 7s 2ms/step - loss: 0.2575 - val_loss: 0.2612\n",
      "Epoch 11/25\n",
      "4323/4323 [==============================] - 7s 2ms/step - loss: 0.2573 - val_loss: 0.2612\n",
      "Epoch 12/25\n",
      "4323/4323 [==============================] - 7s 2ms/step - loss: 0.2571 - val_loss: 0.2617\n",
      "Epoch 13/25\n",
      "4323/4323 [==============================] - 7s 2ms/step - loss: 0.2569 - val_loss: 0.2610\n",
      "Epoch 14/25\n",
      "4323/4323 [==============================] - 7s 2ms/step - loss: 0.2566 - val_loss: 0.2612\n",
      "Epoch 15/25\n",
      "4323/4323 [==============================] - 7s 2ms/step - loss: 0.2566 - val_loss: 0.2617\n",
      "Epoch 16/25\n",
      "4323/4323 [==============================] - 7s 2ms/step - loss: 0.2562 - val_loss: 0.2610\n",
      "Epoch 17/25\n",
      "4323/4323 [==============================] - 7s 2ms/step - loss: 0.2561 - val_loss: 0.2615\n",
      "Epoch 18/25\n",
      "4323/4323 [==============================] - 7s 2ms/step - loss: 0.2558 - val_loss: 0.2613\n",
      "Epoch 19/25\n",
      "4323/4323 [==============================] - 7s 2ms/step - loss: 0.2557 - val_loss: 0.2616\n",
      "Epoch 20/25\n",
      "4323/4323 [==============================] - 7s 2ms/step - loss: 0.2558 - val_loss: 0.2617\n",
      "Epoch 21/25\n",
      "4323/4323 [==============================] - 7s 2ms/step - loss: 0.2554 - val_loss: 0.2616\n",
      "Epoch 22/25\n",
      "4323/4323 [==============================] - 7s 2ms/step - loss: 0.2552 - val_loss: 0.2616\n",
      "Epoch 23/25\n",
      "4323/4323 [==============================] - 7s 2ms/step - loss: 0.2552 - val_loss: 0.2616\n",
      "Epoch 24/25\n",
      "4323/4323 [==============================] - 7s 2ms/step - loss: 0.2550 - val_loss: 0.2618\n",
      "Epoch 25/25\n",
      "4323/4323 [==============================] - 7s 2ms/step - loss: 0.2549 - val_loss: 0.2612\n"
     ]
    },
    {
     "data": {
      "text/plain": [
       "<keras.callbacks.History at 0x28bf79d8550>"
      ]
     },
     "execution_count": 651,
     "metadata": {},
     "output_type": "execute_result"
    }
   ],
   "source": [
    "model_3.fit(x=X_train,\n",
    "          y=y_train,\n",
    "         epochs=25,\n",
    "         batch_size=64,\n",
    "        validation_data=(X_test, y_test),)"
   ]
  },
  {
   "cell_type": "code",
   "execution_count": 652,
   "id": "5b7351c0",
   "metadata": {},
   "outputs": [],
   "source": [
    "losses=pd.DataFrame(model_3.history.history)\n"
   ]
  },
  {
   "cell_type": "code",
   "execution_count": 653,
   "id": "4fee0705",
   "metadata": {},
   "outputs": [
    {
     "data": {
      "text/plain": [
       "<AxesSubplot:>"
      ]
     },
     "execution_count": 653,
     "metadata": {},
     "output_type": "execute_result"
    },
    {
     "data": {
      "image/png": "[encoded data removed]",
      "text/plain": [
       "<Figure size 432x288 with 1 Axes>"
      ]
     },
     "metadata": {},
     "output_type": "display_data"
    }
   ],
   "source": [
    "losses[['loss','val_loss']].plot()"
   ]
  },
  {
   "cell_type": "code",
   "execution_count": 654,
   "id": "ae92d7ec",
   "metadata": {},
   "outputs": [
    {
     "name": "stdout",
     "output_type": "stream",
     "text": [
      "3706/3706 [==============================] - 3s 668us/step\n"
     ]
    }
   ],
   "source": [
    "predictions_3 = model_3.predict (X_test)"
   ]
  },
  {
   "cell_type": "code",
   "execution_count": 655,
   "id": "4b930234",
   "metadata": {},
   "outputs": [
    {
     "name": "stdout",
     "output_type": "stream",
     "text": [
      "              precision    recall  f1-score   support\n",
      "\n",
      "           0       0.96      0.45      0.61     23363\n",
      "           1       0.88      1.00      0.93     95203\n",
      "\n",
      "    accuracy                           0.89    118566\n",
      "   macro avg       0.92      0.72      0.77    118566\n",
      "weighted avg       0.90      0.89      0.87    118566\n",
      "\n",
      "[[10464 12899]\n",
      " [  446 94757]]\n"
     ]
    }
   ],
   "source": [
    "print(classification_report(y_test,predictions_3.round()))\n",
    "print (confusion_matrix(y_test,predictions_3.round()))"
   ]
  },
  {
   "cell_type": "markdown",
   "id": "20a3fda0",
   "metadata": {},
   "source": [
    "# Model 4"
   ]
  },
  {
   "cell_type": "code",
   "execution_count": 656,
   "id": "63233604",
   "metadata": {},
   "outputs": [],
   "source": [
    "model_4=Sequential()\n",
    "\n",
    "#input layer\n",
    "model_4.add(Dense(78, activation = 'relu') )\n",
    "model_4.add(Dropout(0.2))\n",
    "\n",
    "#hidden layer\n",
    "model_4.add(Dense(39, activation = 'relu') )\n",
    "model_4.add(Dropout(0.2))\n",
    "\n",
    "model_4.add(Dense(18, activation = 'relu') )\n",
    "model_4.add(Dropout(0.2))\n",
    "\n",
    "\n",
    "#output layer\n",
    "model_4.add(Dense(1, activation = 'sigmoid') )\n",
    "\n",
    "model_4.compile(loss='binary_crossentropy', optimizer='adam')"
   ]
  },
  {
   "cell_type": "code",
   "execution_count": 675,
   "id": "c1f97bc5",
   "metadata": {},
   "outputs": [
    {
     "name": "stdout",
     "output_type": "stream",
     "text": [
      "Epoch 1/100\n",
      "8646/8646 [==============================] - 13s 2ms/step - loss: 0.2560 - val_loss: 0.2624\n",
      "Epoch 2/100\n",
      "8646/8646 [==============================] - 14s 2ms/step - loss: 0.2558 - val_loss: 0.2625\n",
      "Epoch 3/100\n",
      "8646/8646 [==============================] - 14s 2ms/step - loss: 0.2557 - val_loss: 0.2622\n",
      "Epoch 4/100\n",
      "8646/8646 [==============================] - 13s 2ms/step - loss: 0.2558 - val_loss: 0.2616\n",
      "Epoch 5/100\n",
      "8646/8646 [==============================] - 14s 2ms/step - loss: 0.2554 - val_loss: 0.2629\n",
      "Epoch 6/100\n",
      "8646/8646 [==============================] - 17s 2ms/step - loss: 0.2557 - val_loss: 0.2628\n",
      "Epoch 7/100\n",
      "8646/8646 [==============================] - 15s 2ms/step - loss: 0.2556 - val_loss: 0.2629\n",
      "Epoch 8/100\n",
      "8646/8646 [==============================] - 16s 2ms/step - loss: 0.2552 - val_loss: 0.2630\n",
      "Epoch 9/100\n",
      "8646/8646 [==============================] - 14s 2ms/step - loss: 0.2554 - val_loss: 0.2623\n",
      "Epoch 10/100\n",
      "8646/8646 [==============================] - 14s 2ms/step - loss: 0.2552 - val_loss: 0.2627\n",
      "Epoch 11/100\n",
      "8646/8646 [==============================] - 13s 2ms/step - loss: 0.2550 - val_loss: 0.2631\n",
      "Epoch 12/100\n",
      "8646/8646 [==============================] - 13s 2ms/step - loss: 0.2552 - val_loss: 0.2622\n",
      "Epoch 13/100\n",
      "8646/8646 [==============================] - 14s 2ms/step - loss: 0.2548 - val_loss: 0.2640\n",
      "Epoch 14/100\n",
      "8646/8646 [==============================] - 14s 2ms/step - loss: 0.2549 - val_loss: 0.2628\n",
      "Epoch 15/100\n",
      "8646/8646 [==============================] - 15s 2ms/step - loss: 0.2552 - val_loss: 0.2619\n",
      "Epoch 16/100\n",
      "8646/8646 [==============================] - 14s 2ms/step - loss: 0.2547 - val_loss: 0.2637\n",
      "Epoch 17/100\n",
      "8646/8646 [==============================] - 14s 2ms/step - loss: 0.2549 - val_loss: 0.2623\n",
      "Epoch 18/100\n",
      "8646/8646 [==============================] - 14s 2ms/step - loss: 0.2546 - val_loss: 0.2629\n",
      "Epoch 19/100\n",
      "8646/8646 [==============================] - 14s 2ms/step - loss: 0.2545 - val_loss: 0.2630\n",
      "Epoch 20/100\n",
      "8646/8646 [==============================] - 14s 2ms/step - loss: 0.2545 - val_loss: 0.2654\n",
      "Epoch 21/100\n",
      "8646/8646 [==============================] - 15s 2ms/step - loss: 0.2544 - val_loss: 0.2626\n",
      "Epoch 22/100\n",
      "8646/8646 [==============================] - 15s 2ms/step - loss: 0.2543 - val_loss: 0.2622\n",
      "Epoch 23/100\n",
      "8646/8646 [==============================] - 15s 2ms/step - loss: 0.2541 - val_loss: 0.2633\n",
      "Epoch 24/100\n",
      "8646/8646 [==============================] - 19s 2ms/step - loss: 0.2543 - val_loss: 0.2623\n",
      "Epoch 25/100\n",
      "8646/8646 [==============================] - 15s 2ms/step - loss: 0.2542 - val_loss: 0.2631\n",
      "Epoch 26/100\n",
      "8646/8646 [==============================] - 15s 2ms/step - loss: 0.2542 - val_loss: 0.2631\n",
      "Epoch 27/100\n",
      "8646/8646 [==============================] - 16s 2ms/step - loss: 0.2539 - val_loss: 0.2627\n",
      "Epoch 28/100\n",
      "8646/8646 [==============================] - 15s 2ms/step - loss: 0.2539 - val_loss: 0.2640\n",
      "Epoch 29/100\n",
      "8646/8646 [==============================] - 15s 2ms/step - loss: 0.2543 - val_loss: 0.2627\n",
      "Epoch 30/100\n",
      "8646/8646 [==============================] - 14s 2ms/step - loss: 0.2539 - val_loss: 0.2625\n",
      "Epoch 31/100\n",
      "8646/8646 [==============================] - 14s 2ms/step - loss: 0.2539 - val_loss: 0.2630\n",
      "Epoch 32/100\n",
      "8646/8646 [==============================] - 16s 2ms/step - loss: 0.2537 - val_loss: 0.2634\n",
      "Epoch 33/100\n",
      "8646/8646 [==============================] - 14s 2ms/step - loss: 0.2538 - val_loss: 0.2631\n",
      "Epoch 34/100\n",
      "8646/8646 [==============================] - 14s 2ms/step - loss: 0.2540 - val_loss: 0.2644\n",
      "Epoch 35/100\n",
      "8646/8646 [==============================] - 14s 2ms/step - loss: 0.2536 - val_loss: 0.2650\n",
      "Epoch 36/100\n",
      "8646/8646 [==============================] - 14s 2ms/step - loss: 0.2536 - val_loss: 0.2655\n",
      "Epoch 37/100\n",
      "8646/8646 [==============================] - 14s 2ms/step - loss: 0.2540 - val_loss: 0.2645\n",
      "Epoch 38/100\n",
      "8646/8646 [==============================] - 15s 2ms/step - loss: 0.2539 - val_loss: 0.2638\n",
      "Epoch 39/100\n",
      "8646/8646 [==============================] - 14s 2ms/step - loss: 0.2535 - val_loss: 0.2644\n",
      "Epoch 40/100\n",
      "8646/8646 [==============================] - 14s 2ms/step - loss: 0.2534 - val_loss: 0.2634\n",
      "Epoch 41/100\n",
      "8646/8646 [==============================] - 15s 2ms/step - loss: 0.2535 - val_loss: 0.2633\n",
      "Epoch 42/100\n",
      "8646/8646 [==============================] - 14s 2ms/step - loss: 0.2535 - val_loss: 0.2629\n",
      "Epoch 43/100\n",
      "8646/8646 [==============================] - 15s 2ms/step - loss: 0.2535 - val_loss: 0.2642\n",
      "Epoch 44/100\n",
      "8646/8646 [==============================] - 15s 2ms/step - loss: 0.2535 - val_loss: 0.2634\n",
      "Epoch 45/100\n",
      "8646/8646 [==============================] - 14s 2ms/step - loss: 0.2533 - val_loss: 0.2633\n",
      "Epoch 46/100\n",
      "8646/8646 [==============================] - 14s 2ms/step - loss: 0.2533 - val_loss: 0.2642\n",
      "Epoch 47/100\n",
      "8646/8646 [==============================] - 14s 2ms/step - loss: 0.2535 - val_loss: 0.2645\n",
      "Epoch 48/100\n",
      "8646/8646 [==============================] - 14s 2ms/step - loss: 0.2536 - val_loss: 0.2646\n",
      "Epoch 49/100\n",
      "8646/8646 [==============================] - 16s 2ms/step - loss: 0.2533 - val_loss: 0.2635\n",
      "Epoch 50/100\n",
      "8646/8646 [==============================] - 14s 2ms/step - loss: 0.2531 - val_loss: 0.2648\n",
      "Epoch 51/100\n",
      "8646/8646 [==============================] - 14s 2ms/step - loss: 0.2528 - val_loss: 0.2649\n",
      "Epoch 52/100\n",
      "8646/8646 [==============================] - 14s 2ms/step - loss: 0.2534 - val_loss: 0.2638\n",
      "Epoch 53/100\n",
      "8646/8646 [==============================] - 14s 2ms/step - loss: 0.2529 - val_loss: 0.2654\n",
      "Epoch 54/100\n",
      "8646/8646 [==============================] - 14s 2ms/step - loss: 0.2533 - val_loss: 0.2638\n",
      "Epoch 55/100\n",
      "8646/8646 [==============================] - 14s 2ms/step - loss: 0.2533 - val_loss: 0.2637\n",
      "Epoch 56/100\n",
      "8646/8646 [==============================] - 15s 2ms/step - loss: 0.2533 - val_loss: 0.2662\n",
      "Epoch 57/100\n",
      "8646/8646 [==============================] - 14s 2ms/step - loss: 0.2529 - val_loss: 0.2647\n",
      "Epoch 58/100\n",
      "8646/8646 [==============================] - 15s 2ms/step - loss: 0.2527 - val_loss: 0.2639\n",
      "Epoch 59/100\n",
      "8646/8646 [==============================] - 14s 2ms/step - loss: 0.2529 - val_loss: 0.2649\n",
      "Epoch 60/100\n",
      "8646/8646 [==============================] - 14s 2ms/step - loss: 0.2531 - val_loss: 0.2639\n",
      "Epoch 61/100\n",
      "8646/8646 [==============================] - 15s 2ms/step - loss: 0.2531 - val_loss: 0.2631\n",
      "Epoch 62/100\n",
      "8646/8646 [==============================] - 14s 2ms/step - loss: 0.2528 - val_loss: 0.2643\n",
      "Epoch 63/100\n",
      "8646/8646 [==============================] - 13s 2ms/step - loss: 0.2529 - val_loss: 0.2654\n",
      "Epoch 64/100\n",
      "8646/8646 [==============================] - 15s 2ms/step - loss: 0.2530 - val_loss: 0.2636\n",
      "Epoch 65/100\n",
      "8646/8646 [==============================] - 15s 2ms/step - loss: 0.2529 - val_loss: 0.2644\n",
      "Epoch 66/100\n",
      "8646/8646 [==============================] - 15s 2ms/step - loss: 0.2527 - val_loss: 0.2635\n",
      "Epoch 67/100\n",
      "8646/8646 [==============================] - 16s 2ms/step - loss: 0.2529 - val_loss: 0.2642\n",
      "Epoch 68/100\n",
      "8646/8646 [==============================] - 14s 2ms/step - loss: 0.2529 - val_loss: 0.2661\n",
      "Epoch 69/100\n",
      "8646/8646 [==============================] - 15s 2ms/step - loss: 0.2527 - val_loss: 0.2643\n",
      "Epoch 70/100\n",
      "8646/8646 [==============================] - 14s 2ms/step - loss: 0.2525 - val_loss: 0.2647\n",
      "Epoch 71/100\n",
      "8646/8646 [==============================] - 15s 2ms/step - loss: 0.2529 - val_loss: 0.2647\n",
      "Epoch 72/100\n",
      "8646/8646 [==============================] - 15s 2ms/step - loss: 0.2528 - val_loss: 0.2644\n",
      "Epoch 73/100\n",
      "8646/8646 [==============================] - 15s 2ms/step - loss: 0.2527 - val_loss: 0.2641\n",
      "Epoch 74/100\n",
      "8646/8646 [==============================] - 15s 2ms/step - loss: 0.2525 - val_loss: 0.2648\n",
      "Epoch 75/100\n",
      "8646/8646 [==============================] - 15s 2ms/step - loss: 0.2527 - val_loss: 0.2659\n",
      "Epoch 76/100\n",
      "8646/8646 [==============================] - 14s 2ms/step - loss: 0.2527 - val_loss: 0.2649\n",
      "Epoch 77/100\n",
      "8646/8646 [==============================] - 14s 2ms/step - loss: 0.2523 - val_loss: 0.2655\n",
      "Epoch 78/100\n",
      "8646/8646 [==============================] - 14s 2ms/step - loss: 0.2522 - val_loss: 0.2642\n",
      "Epoch 79/100\n"
     ]
    },
    {
     "name": "stdout",
     "output_type": "stream",
     "text": [
      "8646/8646 [==============================] - 13s 2ms/step - loss: 0.2524 - val_loss: 0.2640\n",
      "Epoch 80/100\n",
      "8646/8646 [==============================] - 14s 2ms/step - loss: 0.2523 - val_loss: 0.2667\n",
      "Epoch 81/100\n",
      "8646/8646 [==============================] - 15s 2ms/step - loss: 0.2523 - val_loss: 0.2669\n",
      "Epoch 82/100\n",
      "8646/8646 [==============================] - 15s 2ms/step - loss: 0.2524 - val_loss: 0.2646\n",
      "Epoch 83/100\n",
      "8646/8646 [==============================] - 15s 2ms/step - loss: 0.2523 - val_loss: 0.2651\n",
      "Epoch 84/100\n",
      "8646/8646 [==============================] - 15s 2ms/step - loss: 0.2521 - val_loss: 0.2650\n",
      "Epoch 85/100\n",
      "8646/8646 [==============================] - 14s 2ms/step - loss: 0.2524 - val_loss: 0.2652\n",
      "Epoch 86/100\n",
      "8646/8646 [==============================] - 14s 2ms/step - loss: 0.2523 - val_loss: 0.2665\n",
      "Epoch 87/100\n",
      "8646/8646 [==============================] - 14s 2ms/step - loss: 0.2522 - val_loss: 0.2670\n",
      "Epoch 88/100\n",
      "8646/8646 [==============================] - 14s 2ms/step - loss: 0.2524 - val_loss: 0.2662\n",
      "Epoch 89/100\n",
      "8646/8646 [==============================] - 14s 2ms/step - loss: 0.2524 - val_loss: 0.2650\n",
      "Epoch 90/100\n",
      "8646/8646 [==============================] - 14s 2ms/step - loss: 0.2523 - val_loss: 0.2670\n",
      "Epoch 91/100\n",
      "8646/8646 [==============================] - 15s 2ms/step - loss: 0.2523 - val_loss: 0.2674\n",
      "Epoch 92/100\n",
      "8646/8646 [==============================] - 15s 2ms/step - loss: 0.2520 - val_loss: 0.2650\n",
      "Epoch 93/100\n",
      "8646/8646 [==============================] - 13s 2ms/step - loss: 0.2519 - val_loss: 0.2682\n",
      "Epoch 94/100\n",
      "8646/8646 [==============================] - 13s 2ms/step - loss: 0.2521 - val_loss: 0.2660\n",
      "Epoch 95/100\n",
      "8646/8646 [==============================] - 13s 2ms/step - loss: 0.2521 - val_loss: 0.2678\n",
      "Epoch 96/100\n",
      "8646/8646 [==============================] - 13s 2ms/step - loss: 0.2521 - val_loss: 0.2666\n",
      "Epoch 97/100\n",
      "8646/8646 [==============================] - 14s 2ms/step - loss: 0.2524 - val_loss: 0.2657\n",
      "Epoch 98/100\n",
      "8646/8646 [==============================] - 14s 2ms/step - loss: 0.2524 - val_loss: 0.2653\n",
      "Epoch 99/100\n",
      "8646/8646 [==============================] - 14s 2ms/step - loss: 0.2522 - val_loss: 0.2652\n",
      "Epoch 100/100\n",
      "8646/8646 [==============================] - 16s 2ms/step - loss: 0.2519 - val_loss: 0.2662\n"
     ]
    },
    {
     "data": {
      "text/plain": [
       "<keras.callbacks.History at 0x28bf79717c0>"
      ]
     },
     "execution_count": 675,
     "metadata": {},
     "output_type": "execute_result"
    }
   ],
   "source": [
    "model_4.fit(x=X_train,\n",
    "          y=y_train,\n",
    "         epochs=100,\n",
    "        validation_data=(X_test, y_test),)"
   ]
  },
  {
   "cell_type": "code",
   "execution_count": 676,
   "id": "c887802e",
   "metadata": {},
   "outputs": [],
   "source": [
    "losses=pd.DataFrame(model_4.history.history)\n"
   ]
  },
  {
   "cell_type": "code",
   "execution_count": 677,
   "id": "a3afa666",
   "metadata": {},
   "outputs": [
    {
     "data": {
      "text/plain": [
       "<AxesSubplot:>"
      ]
     },
     "execution_count": 677,
     "metadata": {},
     "output_type": "execute_result"
    },
    {
     "data": {
      "image/png": "[encoded data removed]",
      "text/plain": [
       "<Figure size 432x288 with 1 Axes>"
      ]
     },
     "metadata": {},
     "output_type": "display_data"
    }
   ],
   "source": [
    "losses[['loss','val_loss']].plot()"
   ]
  },
  {
   "cell_type": "code",
   "execution_count": 678,
   "id": "466e7787",
   "metadata": {},
   "outputs": [
    {
     "name": "stdout",
     "output_type": "stream",
     "text": [
      "3706/3706 [==============================] - 3s 692us/step\n"
     ]
    }
   ],
   "source": [
    "predictions_4 = model_4.predict (X_test)"
   ]
  },
  {
   "cell_type": "code",
   "execution_count": 679,
   "id": "eb5e0f76",
   "metadata": {},
   "outputs": [
    {
     "name": "stdout",
     "output_type": "stream",
     "text": [
      "              precision    recall  f1-score   support\n",
      "\n",
      "           0       0.93      0.47      0.62     23363\n",
      "           1       0.88      0.99      0.93     95203\n",
      "\n",
      "    accuracy                           0.89    118566\n",
      "   macro avg       0.91      0.73      0.78    118566\n",
      "weighted avg       0.89      0.89      0.87    118566\n",
      "\n",
      "[[10890 12473]\n",
      " [  805 94398]]\n"
     ]
    }
   ],
   "source": [
    "print(classification_report(y_test,predictions_4.round()))\n",
    "print (confusion_matrix(y_test,predictions_4.round()))\n"
   ]
  },
  {
   "cell_type": "code",
   "execution_count": null,
   "id": "0cee6451",
   "metadata": {},
   "outputs": [],
   "source": []
  },
  {
   "cell_type": "code",
   "execution_count": null,
   "id": "0d056949",
   "metadata": {},
   "outputs": [],
   "source": []
  },
  {
   "cell_type": "code",
   "execution_count": null,
   "id": "ade64f42",
   "metadata": {},
   "outputs": [],
   "source": []
  },
  {
   "cell_type": "code",
   "execution_count": null,
   "id": "8adf55ee",
   "metadata": {},
   "outputs": [],
   "source": []
  },
  {
   "cell_type": "markdown",
   "id": "980eb09c",
   "metadata": {},
   "source": [
    "**Evaluation**"
   ]
  },
  {
   "cell_type": "code",
   "execution_count": 680,
   "id": "f820c4d5",
   "metadata": {},
   "outputs": [
    {
     "data": {
      "text/plain": [
       "loan_amnt      25000.00\n",
       "term              60.00\n",
       "int_rate          18.24\n",
       "installment      638.11\n",
       "emp_length         4.00\n",
       "                 ...   \n",
       "30723              1.00\n",
       "48052              0.00\n",
       "70466              0.00\n",
       "86630              0.00\n",
       "93700              0.00\n",
       "Name: 305323, Length: 79, dtype: float64"
      ]
     },
     "execution_count": 680,
     "metadata": {},
     "output_type": "execute_result"
    }
   ],
   "source": [
    "import random\n",
    "random.seed(101)\n",
    "random_ind = random.randint(0,len(df))\n",
    "\n",
    "new_customer = df.drop('loan_repaid',axis=1).iloc[random_ind]\n",
    "new_customer"
   ]
  },
  {
   "cell_type": "code",
   "execution_count": 681,
   "id": "d744ae12",
   "metadata": {},
   "outputs": [
    {
     "name": "stdout",
     "output_type": "stream",
     "text": [
      "1/1 [==============================] - 0s 17ms/step\n"
     ]
    },
    {
     "data": {
      "text/plain": [
       "array([[1.]], dtype=float32)"
      ]
     },
     "execution_count": 681,
     "metadata": {},
     "output_type": "execute_result"
    }
   ],
   "source": [
    "model.predict(new_customer.values.reshape(1,79)).round()"
   ]
  },
  {
   "cell_type": "code",
   "execution_count": 682,
   "id": "15d32622",
   "metadata": {},
   "outputs": [
    {
     "name": "stdout",
     "output_type": "stream",
     "text": [
      "1/1 [==============================] - 0s 19ms/step\n"
     ]
    },
    {
     "data": {
      "text/plain": [
       "array([[1.]], dtype=float32)"
      ]
     },
     "execution_count": 682,
     "metadata": {},
     "output_type": "execute_result"
    }
   ],
   "source": [
    "model_1.predict(new_customer.values.reshape(1,79)).round()"
   ]
  },
  {
   "cell_type": "code",
   "execution_count": 683,
   "id": "cd076970",
   "metadata": {},
   "outputs": [
    {
     "name": "stdout",
     "output_type": "stream",
     "text": [
      "1/1 [==============================] - 0s 17ms/step\n"
     ]
    },
    {
     "data": {
      "text/plain": [
       "array([[1.]], dtype=float32)"
      ]
     },
     "execution_count": 683,
     "metadata": {},
     "output_type": "execute_result"
    }
   ],
   "source": [
    "model_2.predict(new_customer.values.reshape(1,79)).round()"
   ]
  },
  {
   "cell_type": "code",
   "execution_count": 684,
   "id": "f4b3cc6e",
   "metadata": {},
   "outputs": [
    {
     "name": "stdout",
     "output_type": "stream",
     "text": [
      "1/1 [==============================] - 0s 19ms/step\n"
     ]
    },
    {
     "data": {
      "text/plain": [
       "array([[1.]], dtype=float32)"
      ]
     },
     "execution_count": 684,
     "metadata": {},
     "output_type": "execute_result"
    }
   ],
   "source": [
    "model_3.predict(new_customer.values.reshape(1,79)).round()"
   ]
  },
  {
   "cell_type": "code",
   "execution_count": 685,
   "id": "ff33cfc5",
   "metadata": {},
   "outputs": [
    {
     "name": "stdout",
     "output_type": "stream",
     "text": [
      "1/1 [==============================] - 0s 17ms/step\n"
     ]
    },
    {
     "data": {
      "text/plain": [
       "array([[1.]], dtype=float32)"
      ]
     },
     "execution_count": 685,
     "metadata": {},
     "output_type": "execute_result"
    }
   ],
   "source": [
    "model_4.predict(new_customer.values.reshape(1,79)).round()"
   ]
  },
  {
   "cell_type": "code",
   "execution_count": 686,
   "id": "4e419971",
   "metadata": {},
   "outputs": [
    {
     "data": {
      "text/plain": [
       "1.0"
      ]
     },
     "execution_count": 686,
     "metadata": {},
     "output_type": "execute_result"
    }
   ],
   "source": [
    "df.iloc[random_ind]['loan_repaid']"
   ]
  },
  {
   "cell_type": "markdown",
   "id": "4e45cbb9",
   "metadata": {},
   "source": [
    "**Customer 2**"
   ]
  },
  {
   "cell_type": "code",
   "execution_count": 687,
   "id": "eb9338ff",
   "metadata": {},
   "outputs": [
    {
     "data": {
      "text/plain": [
       "loan_amnt      25000.00\n",
       "term              60.00\n",
       "int_rate          18.24\n",
       "installment      638.11\n",
       "emp_length         4.00\n",
       "                 ...   \n",
       "30723              1.00\n",
       "48052              0.00\n",
       "70466              0.00\n",
       "86630              0.00\n",
       "93700              0.00\n",
       "Name: 305323, Length: 79, dtype: float64"
      ]
     },
     "execution_count": 687,
     "metadata": {},
     "output_type": "execute_result"
    }
   ],
   "source": [
    "\n",
    "random_ind_2 = random.randint(0,len(df))\n",
    "\n",
    "new_customer_2 = df.drop('loan_repaid',axis=1).iloc[random_ind]\n",
    "new_customer_2"
   ]
  },
  {
   "cell_type": "code",
   "execution_count": 688,
   "id": "c3fe51ac",
   "metadata": {},
   "outputs": [
    {
     "name": "stdout",
     "output_type": "stream",
     "text": [
      "1/1 [==============================] - 0s 16ms/step\n",
      "[[1.]]\n",
      "1/1 [==============================] - 0s 15ms/step\n",
      "[[1.]]\n",
      "1/1 [==============================] - 0s 14ms/step\n",
      "[[1.]]\n",
      "1/1 [==============================] - 0s 14ms/step\n",
      "[[1.]]\n",
      "1/1 [==============================] - 0s 14ms/step\n",
      "[[1.]]\n"
     ]
    }
   ],
   "source": [
    "print(model.predict(new_customer_2.values.reshape(1,79)).round())\n",
    "print(model_1.predict(new_customer_2.values.reshape(1,79)).round())\n",
    "print(model_2.predict(new_customer_2.values.reshape(1,79)).round())\n",
    "print(model_3.predict(new_customer_2.values.reshape(1,79)).round())\n",
    "print(model_4.predict(new_customer_2.values.reshape(1,79)).round())"
   ]
  },
  {
   "cell_type": "code",
   "execution_count": 689,
   "id": "87ab1262",
   "metadata": {},
   "outputs": [
    {
     "data": {
      "text/plain": [
       "1.0"
      ]
     },
     "execution_count": 689,
     "metadata": {},
     "output_type": "execute_result"
    }
   ],
   "source": [
    "df.iloc[random_ind_2]['loan_repaid']"
   ]
  },
  {
   "cell_type": "markdown",
   "id": "28bfc7bb",
   "metadata": {},
   "source": []
  },
  {
   "cell_type": "code",
   "execution_count": null,
   "id": "a5f2b6f3",
   "metadata": {},
   "outputs": [],
   "source": []
  }
 ],
 "metadata": {
  "kernelspec": {
   "display_name": "Python 3 (ipykernel)",
   "language": "python",
   "name": "python3"
  },
  "language_info": {
   "codemirror_mode": {
    "name": "ipython",
    "version": 3
   },
   "file_extension": ".py",
   "mimetype": "text/x-python",
   "name": "python",
   "nbconvert_exporter": "python",
   "pygments_lexer": "ipython3",
   "version": "3.9.12"
  }
 },
 "nbformat": 4,
 "nbformat_minor": 5
}
